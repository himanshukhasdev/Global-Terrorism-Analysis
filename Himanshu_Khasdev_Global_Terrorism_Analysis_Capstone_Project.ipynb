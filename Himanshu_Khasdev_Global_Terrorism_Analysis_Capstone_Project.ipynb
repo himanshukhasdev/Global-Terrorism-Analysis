{
  "nbformat": 4,
  "nbformat_minor": 0,
  "metadata": {
    "kernelspec": {
      "display_name": "Python 3",
      "language": "python",
      "name": "python3"
    },
    "language_info": {
      "codemirror_mode": {
        "name": "ipython",
        "version": 3
      },
      "file_extension": ".py",
      "mimetype": "text/x-python",
      "name": "python",
      "nbconvert_exporter": "python",
      "pygments_lexer": "ipython3",
      "version": "3.6.6"
    },
    "colab": {
      "provenance": [],
      "collapsed_sections": [],
      "include_colab_link": true
    }
  },
  "cells": [
    {
      "cell_type": "markdown",
      "metadata": {
        "id": "view-in-github",
        "colab_type": "text"
      },
      "source": [
        "<a href=\"https://colab.research.google.com/github/himanshukhasdev/Global-Terrorism-Analysis/blob/main/Himanshu_Khasdev_Global_Terrorism_Analysis_Capstone_Project.ipynb\" target=\"_parent\"><img src=\"https://colab.research.google.com/assets/colab-badge.svg\" alt=\"Open In Colab\"/></a>"
      ]
    },
    {
      "cell_type": "markdown",
      "metadata": {
        "id": "Y06xIdG26kRF"
      },
      "source": [
        "## <b> The Global Terrorism Database (GTD) is an open-source database including information on terrorist attacks around the world from 1970 through 2017. The GTD includes systematic data on domestic as well as international terrorist incidents that have occurred during this time period and now includes more than 180,000 attacks. The database is maintained by researchers at the National Consortium for the Study of Terrorism and Responses to Terrorism (START), headquartered at the University of Maryland.</b>\n",
        "\n",
        "# <b> Explore and analyze the data to discover key findings pertaining to terrorist activities. </b>"
      ]
    },
    {
      "cell_type": "markdown",
      "source": [
        "Things I am doing in this kernel is something like:\n",
        "\n",
        "1. Understand the dataset : We'll look at each variable and analyze about their meaning and importance in this dataset.\n",
        "2. Basic cleaning : We'll clean the dataset and handle the missing data.\n",
        "3. Key findings includes :\n",
        "*   Terrorist Attack Frequency with every year \n",
        "*   In which year the maximum attacks were taking place ?\n",
        "\n",
        "*   Which city was the favorite target of terrorist?\n",
        "\n",
        "*   Which type of weapon was used in maximum attacks?\n",
        "*   Which terrorist organization was more active?\n",
        "\n",
        "\n",
        "*   and so on!\n",
        "\n",
        "\n",
        "\n",
        "\n",
        "\n",
        "Now, it's time to have fun!"
      ],
      "metadata": {
        "id": "7oJOFk8yLJRv"
      }
    },
    {
      "cell_type": "code",
      "metadata": {
        "id": "dByMsuzT8Tnw"
      },
      "source": [
        "#Importing import libraries\n",
        "import pandas as pd                        #for data accessing and processing \n",
        "import numpy as np                         #for linear algebra \n",
        "import matplotlib.pyplot as plt            #for plotting graphs and charts\n",
        "%matplotlib inline\n",
        "import seaborn as sns                      #for plotting graphs and charts\n",
        "import warnings                            #for ignoring irrelevant warning messages\n",
        "warnings.filterwarnings('ignore')"
      ],
      "execution_count": 1,
      "outputs": []
    },
    {
      "cell_type": "code",
      "source": [
        "from google.colab import drive             #for drive mounting\n",
        "drive.mount('/content/drive')"
      ],
      "metadata": {
        "colab": {
          "base_uri": "https://localhost:8080/"
        },
        "id": "a2T6uYsdIIZr",
        "outputId": "e035d72b-c023-42c2-90e8-8f1bbbd3f9ac"
      },
      "execution_count": 2,
      "outputs": [
        {
          "output_type": "stream",
          "name": "stdout",
          "text": [
            "Mounted at /content/drive\n"
          ]
        }
      ]
    },
    {
      "cell_type": "code",
      "source": [
        "#reading data using read_csv\n",
        "df = pd.read_csv('/content/drive/MyDrive/Capstone Project-EDA/Global Terrorism Data.csv',encoding=\"ISO-8859-1\")\n",
        "df.head()"
      ],
      "metadata": {
        "id": "mg51Wjz4EPcj",
        "colab": {
          "base_uri": "https://localhost:8080/",
          "height": 317
        },
        "outputId": "add0eac5-09fb-443c-d183-dbf710766b52"
      },
      "execution_count": 3,
      "outputs": [
        {
          "output_type": "execute_result",
          "data": {
            "text/plain": [
              "        eventid  iyear  imonth  iday approxdate  extended resolution  country  \\\n",
              "0  197000000001   1970       7     2        NaN         0        NaN       58   \n",
              "1  197000000002   1970       0     0        NaN         0        NaN      130   \n",
              "2  197001000001   1970       1     0        NaN         0        NaN      160   \n",
              "3  197001000002   1970       1     0        NaN         0        NaN       78   \n",
              "4  197001000003   1970       1     0        NaN         0        NaN      101   \n",
              "\n",
              "          country_txt  region  ... addnotes scite1 scite2  scite3  dbsource  \\\n",
              "0  Dominican Republic       2  ...      NaN    NaN    NaN     NaN      PGIS   \n",
              "1              Mexico       1  ...      NaN    NaN    NaN     NaN      PGIS   \n",
              "2         Philippines       5  ...      NaN    NaN    NaN     NaN      PGIS   \n",
              "3              Greece       8  ...      NaN    NaN    NaN     NaN      PGIS   \n",
              "4               Japan       4  ...      NaN    NaN    NaN     NaN      PGIS   \n",
              "\n",
              "   INT_LOG  INT_IDEO INT_MISC INT_ANY  related  \n",
              "0        0         0        0       0      NaN  \n",
              "1        0         1        1       1      NaN  \n",
              "2       -9        -9        1       1      NaN  \n",
              "3       -9        -9        1       1      NaN  \n",
              "4       -9        -9        1       1      NaN  \n",
              "\n",
              "[5 rows x 135 columns]"
            ],
            "text/html": [
              "\n",
              "  <div id=\"df-00e5af57-1028-44a9-b499-0a9d310dce17\">\n",
              "    <div class=\"colab-df-container\">\n",
              "      <div>\n",
              "<style scoped>\n",
              "    .dataframe tbody tr th:only-of-type {\n",
              "        vertical-align: middle;\n",
              "    }\n",
              "\n",
              "    .dataframe tbody tr th {\n",
              "        vertical-align: top;\n",
              "    }\n",
              "\n",
              "    .dataframe thead th {\n",
              "        text-align: right;\n",
              "    }\n",
              "</style>\n",
              "<table border=\"1\" class=\"dataframe\">\n",
              "  <thead>\n",
              "    <tr style=\"text-align: right;\">\n",
              "      <th></th>\n",
              "      <th>eventid</th>\n",
              "      <th>iyear</th>\n",
              "      <th>imonth</th>\n",
              "      <th>iday</th>\n",
              "      <th>approxdate</th>\n",
              "      <th>extended</th>\n",
              "      <th>resolution</th>\n",
              "      <th>country</th>\n",
              "      <th>country_txt</th>\n",
              "      <th>region</th>\n",
              "      <th>...</th>\n",
              "      <th>addnotes</th>\n",
              "      <th>scite1</th>\n",
              "      <th>scite2</th>\n",
              "      <th>scite3</th>\n",
              "      <th>dbsource</th>\n",
              "      <th>INT_LOG</th>\n",
              "      <th>INT_IDEO</th>\n",
              "      <th>INT_MISC</th>\n",
              "      <th>INT_ANY</th>\n",
              "      <th>related</th>\n",
              "    </tr>\n",
              "  </thead>\n",
              "  <tbody>\n",
              "    <tr>\n",
              "      <th>0</th>\n",
              "      <td>197000000001</td>\n",
              "      <td>1970</td>\n",
              "      <td>7</td>\n",
              "      <td>2</td>\n",
              "      <td>NaN</td>\n",
              "      <td>0</td>\n",
              "      <td>NaN</td>\n",
              "      <td>58</td>\n",
              "      <td>Dominican Republic</td>\n",
              "      <td>2</td>\n",
              "      <td>...</td>\n",
              "      <td>NaN</td>\n",
              "      <td>NaN</td>\n",
              "      <td>NaN</td>\n",
              "      <td>NaN</td>\n",
              "      <td>PGIS</td>\n",
              "      <td>0</td>\n",
              "      <td>0</td>\n",
              "      <td>0</td>\n",
              "      <td>0</td>\n",
              "      <td>NaN</td>\n",
              "    </tr>\n",
              "    <tr>\n",
              "      <th>1</th>\n",
              "      <td>197000000002</td>\n",
              "      <td>1970</td>\n",
              "      <td>0</td>\n",
              "      <td>0</td>\n",
              "      <td>NaN</td>\n",
              "      <td>0</td>\n",
              "      <td>NaN</td>\n",
              "      <td>130</td>\n",
              "      <td>Mexico</td>\n",
              "      <td>1</td>\n",
              "      <td>...</td>\n",
              "      <td>NaN</td>\n",
              "      <td>NaN</td>\n",
              "      <td>NaN</td>\n",
              "      <td>NaN</td>\n",
              "      <td>PGIS</td>\n",
              "      <td>0</td>\n",
              "      <td>1</td>\n",
              "      <td>1</td>\n",
              "      <td>1</td>\n",
              "      <td>NaN</td>\n",
              "    </tr>\n",
              "    <tr>\n",
              "      <th>2</th>\n",
              "      <td>197001000001</td>\n",
              "      <td>1970</td>\n",
              "      <td>1</td>\n",
              "      <td>0</td>\n",
              "      <td>NaN</td>\n",
              "      <td>0</td>\n",
              "      <td>NaN</td>\n",
              "      <td>160</td>\n",
              "      <td>Philippines</td>\n",
              "      <td>5</td>\n",
              "      <td>...</td>\n",
              "      <td>NaN</td>\n",
              "      <td>NaN</td>\n",
              "      <td>NaN</td>\n",
              "      <td>NaN</td>\n",
              "      <td>PGIS</td>\n",
              "      <td>-9</td>\n",
              "      <td>-9</td>\n",
              "      <td>1</td>\n",
              "      <td>1</td>\n",
              "      <td>NaN</td>\n",
              "    </tr>\n",
              "    <tr>\n",
              "      <th>3</th>\n",
              "      <td>197001000002</td>\n",
              "      <td>1970</td>\n",
              "      <td>1</td>\n",
              "      <td>0</td>\n",
              "      <td>NaN</td>\n",
              "      <td>0</td>\n",
              "      <td>NaN</td>\n",
              "      <td>78</td>\n",
              "      <td>Greece</td>\n",
              "      <td>8</td>\n",
              "      <td>...</td>\n",
              "      <td>NaN</td>\n",
              "      <td>NaN</td>\n",
              "      <td>NaN</td>\n",
              "      <td>NaN</td>\n",
              "      <td>PGIS</td>\n",
              "      <td>-9</td>\n",
              "      <td>-9</td>\n",
              "      <td>1</td>\n",
              "      <td>1</td>\n",
              "      <td>NaN</td>\n",
              "    </tr>\n",
              "    <tr>\n",
              "      <th>4</th>\n",
              "      <td>197001000003</td>\n",
              "      <td>1970</td>\n",
              "      <td>1</td>\n",
              "      <td>0</td>\n",
              "      <td>NaN</td>\n",
              "      <td>0</td>\n",
              "      <td>NaN</td>\n",
              "      <td>101</td>\n",
              "      <td>Japan</td>\n",
              "      <td>4</td>\n",
              "      <td>...</td>\n",
              "      <td>NaN</td>\n",
              "      <td>NaN</td>\n",
              "      <td>NaN</td>\n",
              "      <td>NaN</td>\n",
              "      <td>PGIS</td>\n",
              "      <td>-9</td>\n",
              "      <td>-9</td>\n",
              "      <td>1</td>\n",
              "      <td>1</td>\n",
              "      <td>NaN</td>\n",
              "    </tr>\n",
              "  </tbody>\n",
              "</table>\n",
              "<p>5 rows × 135 columns</p>\n",
              "</div>\n",
              "      <button class=\"colab-df-convert\" onclick=\"convertToInteractive('df-00e5af57-1028-44a9-b499-0a9d310dce17')\"\n",
              "              title=\"Convert this dataframe to an interactive table.\"\n",
              "              style=\"display:none;\">\n",
              "        \n",
              "  <svg xmlns=\"http://www.w3.org/2000/svg\" height=\"24px\"viewBox=\"0 0 24 24\"\n",
              "       width=\"24px\">\n",
              "    <path d=\"M0 0h24v24H0V0z\" fill=\"none\"/>\n",
              "    <path d=\"M18.56 5.44l.94 2.06.94-2.06 2.06-.94-2.06-.94-.94-2.06-.94 2.06-2.06.94zm-11 1L8.5 8.5l.94-2.06 2.06-.94-2.06-.94L8.5 2.5l-.94 2.06-2.06.94zm10 10l.94 2.06.94-2.06 2.06-.94-2.06-.94-.94-2.06-.94 2.06-2.06.94z\"/><path d=\"M17.41 7.96l-1.37-1.37c-.4-.4-.92-.59-1.43-.59-.52 0-1.04.2-1.43.59L10.3 9.45l-7.72 7.72c-.78.78-.78 2.05 0 2.83L4 21.41c.39.39.9.59 1.41.59.51 0 1.02-.2 1.41-.59l7.78-7.78 2.81-2.81c.8-.78.8-2.07 0-2.86zM5.41 20L4 18.59l7.72-7.72 1.47 1.35L5.41 20z\"/>\n",
              "  </svg>\n",
              "      </button>\n",
              "      \n",
              "  <style>\n",
              "    .colab-df-container {\n",
              "      display:flex;\n",
              "      flex-wrap:wrap;\n",
              "      gap: 12px;\n",
              "    }\n",
              "\n",
              "    .colab-df-convert {\n",
              "      background-color: #E8F0FE;\n",
              "      border: none;\n",
              "      border-radius: 50%;\n",
              "      cursor: pointer;\n",
              "      display: none;\n",
              "      fill: #1967D2;\n",
              "      height: 32px;\n",
              "      padding: 0 0 0 0;\n",
              "      width: 32px;\n",
              "    }\n",
              "\n",
              "    .colab-df-convert:hover {\n",
              "      background-color: #E2EBFA;\n",
              "      box-shadow: 0px 1px 2px rgba(60, 64, 67, 0.3), 0px 1px 3px 1px rgba(60, 64, 67, 0.15);\n",
              "      fill: #174EA6;\n",
              "    }\n",
              "\n",
              "    [theme=dark] .colab-df-convert {\n",
              "      background-color: #3B4455;\n",
              "      fill: #D2E3FC;\n",
              "    }\n",
              "\n",
              "    [theme=dark] .colab-df-convert:hover {\n",
              "      background-color: #434B5C;\n",
              "      box-shadow: 0px 1px 3px 1px rgba(0, 0, 0, 0.15);\n",
              "      filter: drop-shadow(0px 1px 2px rgba(0, 0, 0, 0.3));\n",
              "      fill: #FFFFFF;\n",
              "    }\n",
              "  </style>\n",
              "\n",
              "      <script>\n",
              "        const buttonEl =\n",
              "          document.querySelector('#df-00e5af57-1028-44a9-b499-0a9d310dce17 button.colab-df-convert');\n",
              "        buttonEl.style.display =\n",
              "          google.colab.kernel.accessAllowed ? 'block' : 'none';\n",
              "\n",
              "        async function convertToInteractive(key) {\n",
              "          const element = document.querySelector('#df-00e5af57-1028-44a9-b499-0a9d310dce17');\n",
              "          const dataTable =\n",
              "            await google.colab.kernel.invokeFunction('convertToInteractive',\n",
              "                                                     [key], {});\n",
              "          if (!dataTable) return;\n",
              "\n",
              "          const docLinkHtml = 'Like what you see? Visit the ' +\n",
              "            '<a target=\"_blank\" href=https://colab.research.google.com/notebooks/data_table.ipynb>data table notebook</a>'\n",
              "            + ' to learn more about interactive tables.';\n",
              "          element.innerHTML = '';\n",
              "          dataTable['output_type'] = 'display_data';\n",
              "          await google.colab.output.renderOutput(dataTable, element);\n",
              "          const docLink = document.createElement('div');\n",
              "          docLink.innerHTML = docLinkHtml;\n",
              "          element.appendChild(docLink);\n",
              "        }\n",
              "      </script>\n",
              "    </div>\n",
              "  </div>\n",
              "  "
            ]
          },
          "metadata": {},
          "execution_count": 3
        }
      ]
    },
    {
      "cell_type": "code",
      "source": [
        "#checking no. of columns\n",
        "df.columns"
      ],
      "metadata": {
        "colab": {
          "base_uri": "https://localhost:8080/"
        },
        "id": "6iKC7LXiOFyU",
        "outputId": "059dbd53-4419-4082-8830-e4e34920fbc9"
      },
      "execution_count": 4,
      "outputs": [
        {
          "output_type": "execute_result",
          "data": {
            "text/plain": [
              "Index(['eventid', 'iyear', 'imonth', 'iday', 'approxdate', 'extended',\n",
              "       'resolution', 'country', 'country_txt', 'region',\n",
              "       ...\n",
              "       'addnotes', 'scite1', 'scite2', 'scite3', 'dbsource', 'INT_LOG',\n",
              "       'INT_IDEO', 'INT_MISC', 'INT_ANY', 'related'],\n",
              "      dtype='object', length=135)"
            ]
          },
          "metadata": {},
          "execution_count": 4
        }
      ]
    },
    {
      "cell_type": "code",
      "source": [
        "#checking shape \n",
        "df.shape"
      ],
      "metadata": {
        "colab": {
          "base_uri": "https://localhost:8080/"
        },
        "id": "S4fTZHOJOFvk",
        "outputId": "6dd28e55-4825-4cd6-aada-2a244db17b75"
      },
      "execution_count": 5,
      "outputs": [
        {
          "output_type": "execute_result",
          "data": {
            "text/plain": [
              "(181691, 135)"
            ]
          },
          "metadata": {},
          "execution_count": 5
        }
      ]
    },
    {
      "cell_type": "code",
      "source": [
        "#checking size of dataset\n",
        "df.size"
      ],
      "metadata": {
        "colab": {
          "base_uri": "https://localhost:8080/"
        },
        "id": "gm0rjYpHW3ws",
        "outputId": "45138827-7a5b-4273-ca8d-abbacbd5887e"
      },
      "execution_count": 6,
      "outputs": [
        {
          "output_type": "execute_result",
          "data": {
            "text/plain": [
              "24528285"
            ]
          },
          "metadata": {},
          "execution_count": 6
        }
      ]
    },
    {
      "cell_type": "markdown",
      "source": [
        "#**Data Cleaning & Considering Columns Which Have Null Values Less Than 50%**"
      ],
      "metadata": {
        "id": "VZ8AXOTpDjh-"
      }
    },
    {
      "cell_type": "code",
      "source": [
        "#Keeping only those columns which have <50% nulls\n",
        "main_cols = []\n",
        "for i in df.columns:\n",
        "  if df[i].isna().sum()<0.50*len(df):\n",
        "    main_cols.append (i)\n",
        "main_cols"
      ],
      "metadata": {
        "colab": {
          "base_uri": "https://localhost:8080/"
        },
        "id": "HYmqtVkNTOYR",
        "outputId": "6d402e68-23ad-4f0b-8e3d-ba5cb74078bd"
      },
      "execution_count": 7,
      "outputs": [
        {
          "output_type": "execute_result",
          "data": {
            "text/plain": [
              "['eventid',\n",
              " 'iyear',\n",
              " 'imonth',\n",
              " 'iday',\n",
              " 'extended',\n",
              " 'country',\n",
              " 'country_txt',\n",
              " 'region',\n",
              " 'region_txt',\n",
              " 'provstate',\n",
              " 'city',\n",
              " 'latitude',\n",
              " 'longitude',\n",
              " 'specificity',\n",
              " 'vicinity',\n",
              " 'summary',\n",
              " 'crit1',\n",
              " 'crit2',\n",
              " 'crit3',\n",
              " 'doubtterr',\n",
              " 'multiple',\n",
              " 'success',\n",
              " 'suicide',\n",
              " 'attacktype1',\n",
              " 'attacktype1_txt',\n",
              " 'targtype1',\n",
              " 'targtype1_txt',\n",
              " 'targsubtype1',\n",
              " 'targsubtype1_txt',\n",
              " 'corp1',\n",
              " 'target1',\n",
              " 'natlty1',\n",
              " 'natlty1_txt',\n",
              " 'gname',\n",
              " 'guncertain1',\n",
              " 'individual',\n",
              " 'nperps',\n",
              " 'nperpcap',\n",
              " 'claimed',\n",
              " 'weaptype1',\n",
              " 'weaptype1_txt',\n",
              " 'weapsubtype1',\n",
              " 'weapsubtype1_txt',\n",
              " 'weapdetail',\n",
              " 'nkill',\n",
              " 'nkillus',\n",
              " 'nkillter',\n",
              " 'nwound',\n",
              " 'nwoundus',\n",
              " 'nwoundte',\n",
              " 'property',\n",
              " 'ishostkid',\n",
              " 'scite1',\n",
              " 'dbsource',\n",
              " 'INT_LOG',\n",
              " 'INT_IDEO',\n",
              " 'INT_MISC',\n",
              " 'INT_ANY']"
            ]
          },
          "metadata": {},
          "execution_count": 7
        }
      ]
    },
    {
      "cell_type": "code",
      "source": [
        "new_df=df[main_cols]"
      ],
      "metadata": {
        "id": "RMjSidrLdywn"
      },
      "execution_count": 8,
      "outputs": []
    },
    {
      "cell_type": "code",
      "source": [
        "#checking shape of new data\n",
        "new_df.shape"
      ],
      "metadata": {
        "colab": {
          "base_uri": "https://localhost:8080/"
        },
        "id": "icfeQ2njP26P",
        "outputId": "a57266b5-d816-4681-9fd8-e21a8aa11c42"
      },
      "execution_count": 9,
      "outputs": [
        {
          "output_type": "execute_result",
          "data": {
            "text/plain": [
              "(181691, 58)"
            ]
          },
          "metadata": {},
          "execution_count": 9
        }
      ]
    },
    {
      "cell_type": "code",
      "source": [
        "#checking if new data have null values or not\n",
        "new_df.isnull().sum()"
      ],
      "metadata": {
        "colab": {
          "base_uri": "https://localhost:8080/"
        },
        "id": "Dr7ZnzuRlP_Z",
        "outputId": "14181298-b66c-4bd2-8c38-1a5d224848aa"
      },
      "execution_count": 10,
      "outputs": [
        {
          "output_type": "execute_result",
          "data": {
            "text/plain": [
              "eventid                 0\n",
              "iyear                   0\n",
              "imonth                  0\n",
              "iday                    0\n",
              "extended                0\n",
              "country                 0\n",
              "country_txt             0\n",
              "region                  0\n",
              "region_txt              0\n",
              "provstate             421\n",
              "city                  434\n",
              "latitude             4556\n",
              "longitude            4557\n",
              "specificity             6\n",
              "vicinity                0\n",
              "summary             66129\n",
              "crit1                   0\n",
              "crit2                   0\n",
              "crit3                   0\n",
              "doubtterr               1\n",
              "multiple                1\n",
              "success                 0\n",
              "suicide                 0\n",
              "attacktype1             0\n",
              "attacktype1_txt         0\n",
              "targtype1               0\n",
              "targtype1_txt           0\n",
              "targsubtype1        10373\n",
              "targsubtype1_txt    10373\n",
              "corp1               42550\n",
              "target1               636\n",
              "natlty1              1559\n",
              "natlty1_txt          1559\n",
              "gname                   0\n",
              "guncertain1           380\n",
              "individual              0\n",
              "nperps              71115\n",
              "nperpcap            69489\n",
              "claimed             66120\n",
              "weaptype1               0\n",
              "weaptype1_txt           0\n",
              "weapsubtype1        20768\n",
              "weapsubtype1_txt    20768\n",
              "weapdetail          67670\n",
              "nkill               10313\n",
              "nkillus             64446\n",
              "nkillter            66958\n",
              "nwound              16311\n",
              "nwoundus            64702\n",
              "nwoundte            69143\n",
              "property                0\n",
              "ishostkid             178\n",
              "scite1              66191\n",
              "dbsource                0\n",
              "INT_LOG                 0\n",
              "INT_IDEO                0\n",
              "INT_MISC                0\n",
              "INT_ANY                 0\n",
              "dtype: int64"
            ]
          },
          "metadata": {},
          "execution_count": 10
        }
      ]
    },
    {
      "cell_type": "code",
      "source": [
        "new_df.isnull().sum()/len(new_df) *100"
      ],
      "metadata": {
        "colab": {
          "base_uri": "https://localhost:8080/"
        },
        "id": "3K04p2DFY3kP",
        "outputId": "26d79682-416d-46fe-dd26-d38be7079812"
      },
      "execution_count": 11,
      "outputs": [
        {
          "output_type": "execute_result",
          "data": {
            "text/plain": [
              "eventid              0.000000\n",
              "iyear                0.000000\n",
              "imonth               0.000000\n",
              "iday                 0.000000\n",
              "extended             0.000000\n",
              "country              0.000000\n",
              "country_txt          0.000000\n",
              "region               0.000000\n",
              "region_txt           0.000000\n",
              "provstate            0.231712\n",
              "city                 0.238867\n",
              "latitude             2.507554\n",
              "longitude            2.508104\n",
              "specificity          0.003302\n",
              "vicinity             0.000000\n",
              "summary             36.396409\n",
              "crit1                0.000000\n",
              "crit2                0.000000\n",
              "crit3                0.000000\n",
              "doubtterr            0.000550\n",
              "multiple             0.000550\n",
              "success              0.000000\n",
              "suicide              0.000000\n",
              "attacktype1          0.000000\n",
              "attacktype1_txt      0.000000\n",
              "targtype1            0.000000\n",
              "targtype1_txt        0.000000\n",
              "targsubtype1         5.709144\n",
              "targsubtype1_txt     5.709144\n",
              "corp1               23.418882\n",
              "target1              0.350045\n",
              "natlty1              0.858050\n",
              "natlty1_txt          0.858050\n",
              "gname                0.000000\n",
              "guncertain1          0.209146\n",
              "individual           0.000000\n",
              "nperps              39.140629\n",
              "nperpcap            38.245703\n",
              "claimed             36.391456\n",
              "weaptype1            0.000000\n",
              "weaptype1_txt        0.000000\n",
              "weapsubtype1        11.430396\n",
              "weapsubtype1_txt    11.430396\n",
              "weapdetail          37.244553\n",
              "nkill                5.676120\n",
              "nkillus             35.470111\n",
              "nkillter            36.852678\n",
              "nwound               8.977330\n",
              "nwoundus            35.611010\n",
              "nwoundte            38.055270\n",
              "property             0.000000\n",
              "ishostkid            0.097969\n",
              "scite1              36.430533\n",
              "dbsource             0.000000\n",
              "INT_LOG              0.000000\n",
              "INT_IDEO             0.000000\n",
              "INT_MISC             0.000000\n",
              "INT_ANY              0.000000\n",
              "dtype: float64"
            ]
          },
          "metadata": {},
          "execution_count": 11
        }
      ]
    },
    {
      "cell_type": "code",
      "source": [
        "#dropping duplicates from the remaining data\n",
        "duplicates = new_df.drop_duplicates()\n",
        "if len(duplicates)==len(new_df):\n",
        "  print(\"No Duplicates\")\n",
        "else:\n",
        "  print (\"Duplicates Removed\")"
      ],
      "metadata": {
        "colab": {
          "base_uri": "https://localhost:8080/"
        },
        "id": "Lk-n7jKHR6ao",
        "outputId": "f6db9974-50df-4a86-b9ee-fb5c7cb33691"
      },
      "execution_count": 12,
      "outputs": [
        {
          "output_type": "stream",
          "name": "stdout",
          "text": [
            "No Duplicates\n"
          ]
        }
      ]
    },
    {
      "cell_type": "code",
      "source": [
        "new_df.dtypes"
      ],
      "metadata": {
        "colab": {
          "base_uri": "https://localhost:8080/"
        },
        "id": "g-KdjR-WSrc-",
        "outputId": "3ae603ae-5428-4d51-b844-fcb82d9ec2da"
      },
      "execution_count": 13,
      "outputs": [
        {
          "output_type": "execute_result",
          "data": {
            "text/plain": [
              "eventid               int64\n",
              "iyear                 int64\n",
              "imonth                int64\n",
              "iday                  int64\n",
              "extended              int64\n",
              "country               int64\n",
              "country_txt          object\n",
              "region                int64\n",
              "region_txt           object\n",
              "provstate            object\n",
              "city                 object\n",
              "latitude            float64\n",
              "longitude           float64\n",
              "specificity         float64\n",
              "vicinity              int64\n",
              "summary              object\n",
              "crit1                 int64\n",
              "crit2                 int64\n",
              "crit3                 int64\n",
              "doubtterr           float64\n",
              "multiple            float64\n",
              "success               int64\n",
              "suicide               int64\n",
              "attacktype1           int64\n",
              "attacktype1_txt      object\n",
              "targtype1             int64\n",
              "targtype1_txt        object\n",
              "targsubtype1        float64\n",
              "targsubtype1_txt     object\n",
              "corp1                object\n",
              "target1              object\n",
              "natlty1             float64\n",
              "natlty1_txt          object\n",
              "gname                object\n",
              "guncertain1         float64\n",
              "individual            int64\n",
              "nperps              float64\n",
              "nperpcap            float64\n",
              "claimed             float64\n",
              "weaptype1             int64\n",
              "weaptype1_txt        object\n",
              "weapsubtype1        float64\n",
              "weapsubtype1_txt     object\n",
              "weapdetail           object\n",
              "nkill               float64\n",
              "nkillus             float64\n",
              "nkillter            float64\n",
              "nwound              float64\n",
              "nwoundus            float64\n",
              "nwoundte            float64\n",
              "property              int64\n",
              "ishostkid           float64\n",
              "scite1               object\n",
              "dbsource             object\n",
              "INT_LOG               int64\n",
              "INT_IDEO              int64\n",
              "INT_MISC              int64\n",
              "INT_ANY               int64\n",
              "dtype: object"
            ]
          },
          "metadata": {},
          "execution_count": 13
        }
      ]
    },
    {
      "cell_type": "markdown",
      "source": [
        "#**Taking Relevent Columns For Analysis Only**"
      ],
      "metadata": {
        "id": "BMIoq3rVC-l7"
      }
    },
    {
      "cell_type": "code",
      "source": [
        "#This dataset consist of 135 columns and most of the columns are having maximum null values,so we removed the null values and keep only neccessary columns from the dataset.\n",
        "\n",
        "relevant_columns=['eventid','iyear','imonth','iday','country_txt','provstate','city','region_txt','attacktype1_txt','target1','success','nkill','nwound','summary','gname','targtype1_txt','weaptype1_txt']"
      ],
      "metadata": {
        "id": "5xDzvxv8l_Gg"
      },
      "execution_count": 14,
      "outputs": []
    },
    {
      "cell_type": "code",
      "source": [
        "data = new_df[relevant_columns]"
      ],
      "metadata": {
        "id": "3pfTbVBgpE3W"
      },
      "execution_count": 15,
      "outputs": []
    },
    {
      "cell_type": "code",
      "source": [
        "#the columns heading not make any sense,so we will rename it for better understanding.\n",
        "data.rename(columns={'iyear':'Year','imonth':'Month','iday':'Day','country_txt':'Country','provstate':'State','city':'City','region_txt':'Region','attacktype1_txt':'AttackType','target1':'Target','success':'Success','nkill':'Killed','nwound':'Wounded','gname':'Group','targtype1_txt':'Target_type','weaptype1_txt':'Weapon_type'},inplace=True)"
      ],
      "metadata": {
        "id": "lYH5Z_34Qnct"
      },
      "execution_count": 16,
      "outputs": []
    },
    {
      "cell_type": "markdown",
      "source": [
        "**Columns Detail:**\n",
        "\n",
        "1. 'Year' : Year in which the incident occurred.\n",
        "2. 'Month' : Month in which the incident occurred.\n",
        "3. 'Day' : Date on which the incident occurred.\n",
        "4. 'Country' : Country or Location where incident occured.\n",
        "5. 'State' : State where incident occured.\n",
        "6. 'City' : City where incident occured.\n",
        "7. 'Region' : Region where incident occured.\n",
        "8. 'AttackType' : Method/Type of Attack\n",
        "9. 'Target' : Target (Place or Person)\n",
        "10. 'Success' : Success of terrorist activity.\n",
        "11. 'Killed' : No. of people killed\n",
        "12. 'Wounded' : No. of people wounded\n",
        "13. 'Group' : Terrorist group or organization\n",
        "14. 'Target_type' : Target Category\n",
        "15. 'Weapon_type' : Type of weapon/artillary used"
      ],
      "metadata": {
        "id": "2V-LR5_oFNj6"
      }
    },
    {
      "cell_type": "code",
      "source": [
        "#Column \"eventid\" have no significant data for analysis\n",
        "data.drop('eventid',axis=1,inplace=True)"
      ],
      "metadata": {
        "id": "TrrpcDGBQwRt"
      },
      "execution_count": 17,
      "outputs": []
    },
    {
      "cell_type": "code",
      "source": [
        "data.shape"
      ],
      "metadata": {
        "colab": {
          "base_uri": "https://localhost:8080/"
        },
        "id": "0n40zfRXjyhR",
        "outputId": "f7f6f18a-d0be-417a-a6f5-b966a598af69"
      },
      "execution_count": 18,
      "outputs": [
        {
          "output_type": "execute_result",
          "data": {
            "text/plain": [
              "(181691, 16)"
            ]
          },
          "metadata": {},
          "execution_count": 18
        }
      ]
    },
    {
      "cell_type": "code",
      "source": [
        "#chekcing the basic parameters like man, min,mean etc\n",
        "#applicable only on columns containing numerical values\n",
        "data.describe()"
      ],
      "metadata": {
        "colab": {
          "base_uri": "https://localhost:8080/",
          "height": 300
        },
        "id": "OZmaZm8XtK_G",
        "outputId": "cac4d36a-5fc1-468e-d32e-ea8476eaf54c"
      },
      "execution_count": 19,
      "outputs": [
        {
          "output_type": "execute_result",
          "data": {
            "text/plain": [
              "                Year          Month            Day        Success  \\\n",
              "count  181691.000000  181691.000000  181691.000000  181691.000000   \n",
              "mean     2002.638997       6.467277      15.505644       0.889598   \n",
              "std        13.259430       3.388303       8.814045       0.313391   \n",
              "min      1970.000000       0.000000       0.000000       0.000000   \n",
              "25%      1991.000000       4.000000       8.000000       1.000000   \n",
              "50%      2009.000000       6.000000      15.000000       1.000000   \n",
              "75%      2014.000000       9.000000      23.000000       1.000000   \n",
              "max      2017.000000      12.000000      31.000000       1.000000   \n",
              "\n",
              "              Killed        Wounded  \n",
              "count  171378.000000  165380.000000  \n",
              "mean        2.403272       3.167668  \n",
              "std        11.545741      35.949392  \n",
              "min         0.000000       0.000000  \n",
              "25%         0.000000       0.000000  \n",
              "50%         0.000000       0.000000  \n",
              "75%         2.000000       2.000000  \n",
              "max      1570.000000    8191.000000  "
            ],
            "text/html": [
              "\n",
              "  <div id=\"df-103e2339-e8f1-4a1d-9ff0-4c7adbba41d5\">\n",
              "    <div class=\"colab-df-container\">\n",
              "      <div>\n",
              "<style scoped>\n",
              "    .dataframe tbody tr th:only-of-type {\n",
              "        vertical-align: middle;\n",
              "    }\n",
              "\n",
              "    .dataframe tbody tr th {\n",
              "        vertical-align: top;\n",
              "    }\n",
              "\n",
              "    .dataframe thead th {\n",
              "        text-align: right;\n",
              "    }\n",
              "</style>\n",
              "<table border=\"1\" class=\"dataframe\">\n",
              "  <thead>\n",
              "    <tr style=\"text-align: right;\">\n",
              "      <th></th>\n",
              "      <th>Year</th>\n",
              "      <th>Month</th>\n",
              "      <th>Day</th>\n",
              "      <th>Success</th>\n",
              "      <th>Killed</th>\n",
              "      <th>Wounded</th>\n",
              "    </tr>\n",
              "  </thead>\n",
              "  <tbody>\n",
              "    <tr>\n",
              "      <th>count</th>\n",
              "      <td>181691.000000</td>\n",
              "      <td>181691.000000</td>\n",
              "      <td>181691.000000</td>\n",
              "      <td>181691.000000</td>\n",
              "      <td>171378.000000</td>\n",
              "      <td>165380.000000</td>\n",
              "    </tr>\n",
              "    <tr>\n",
              "      <th>mean</th>\n",
              "      <td>2002.638997</td>\n",
              "      <td>6.467277</td>\n",
              "      <td>15.505644</td>\n",
              "      <td>0.889598</td>\n",
              "      <td>2.403272</td>\n",
              "      <td>3.167668</td>\n",
              "    </tr>\n",
              "    <tr>\n",
              "      <th>std</th>\n",
              "      <td>13.259430</td>\n",
              "      <td>3.388303</td>\n",
              "      <td>8.814045</td>\n",
              "      <td>0.313391</td>\n",
              "      <td>11.545741</td>\n",
              "      <td>35.949392</td>\n",
              "    </tr>\n",
              "    <tr>\n",
              "      <th>min</th>\n",
              "      <td>1970.000000</td>\n",
              "      <td>0.000000</td>\n",
              "      <td>0.000000</td>\n",
              "      <td>0.000000</td>\n",
              "      <td>0.000000</td>\n",
              "      <td>0.000000</td>\n",
              "    </tr>\n",
              "    <tr>\n",
              "      <th>25%</th>\n",
              "      <td>1991.000000</td>\n",
              "      <td>4.000000</td>\n",
              "      <td>8.000000</td>\n",
              "      <td>1.000000</td>\n",
              "      <td>0.000000</td>\n",
              "      <td>0.000000</td>\n",
              "    </tr>\n",
              "    <tr>\n",
              "      <th>50%</th>\n",
              "      <td>2009.000000</td>\n",
              "      <td>6.000000</td>\n",
              "      <td>15.000000</td>\n",
              "      <td>1.000000</td>\n",
              "      <td>0.000000</td>\n",
              "      <td>0.000000</td>\n",
              "    </tr>\n",
              "    <tr>\n",
              "      <th>75%</th>\n",
              "      <td>2014.000000</td>\n",
              "      <td>9.000000</td>\n",
              "      <td>23.000000</td>\n",
              "      <td>1.000000</td>\n",
              "      <td>2.000000</td>\n",
              "      <td>2.000000</td>\n",
              "    </tr>\n",
              "    <tr>\n",
              "      <th>max</th>\n",
              "      <td>2017.000000</td>\n",
              "      <td>12.000000</td>\n",
              "      <td>31.000000</td>\n",
              "      <td>1.000000</td>\n",
              "      <td>1570.000000</td>\n",
              "      <td>8191.000000</td>\n",
              "    </tr>\n",
              "  </tbody>\n",
              "</table>\n",
              "</div>\n",
              "      <button class=\"colab-df-convert\" onclick=\"convertToInteractive('df-103e2339-e8f1-4a1d-9ff0-4c7adbba41d5')\"\n",
              "              title=\"Convert this dataframe to an interactive table.\"\n",
              "              style=\"display:none;\">\n",
              "        \n",
              "  <svg xmlns=\"http://www.w3.org/2000/svg\" height=\"24px\"viewBox=\"0 0 24 24\"\n",
              "       width=\"24px\">\n",
              "    <path d=\"M0 0h24v24H0V0z\" fill=\"none\"/>\n",
              "    <path d=\"M18.56 5.44l.94 2.06.94-2.06 2.06-.94-2.06-.94-.94-2.06-.94 2.06-2.06.94zm-11 1L8.5 8.5l.94-2.06 2.06-.94-2.06-.94L8.5 2.5l-.94 2.06-2.06.94zm10 10l.94 2.06.94-2.06 2.06-.94-2.06-.94-.94-2.06-.94 2.06-2.06.94z\"/><path d=\"M17.41 7.96l-1.37-1.37c-.4-.4-.92-.59-1.43-.59-.52 0-1.04.2-1.43.59L10.3 9.45l-7.72 7.72c-.78.78-.78 2.05 0 2.83L4 21.41c.39.39.9.59 1.41.59.51 0 1.02-.2 1.41-.59l7.78-7.78 2.81-2.81c.8-.78.8-2.07 0-2.86zM5.41 20L4 18.59l7.72-7.72 1.47 1.35L5.41 20z\"/>\n",
              "  </svg>\n",
              "      </button>\n",
              "      \n",
              "  <style>\n",
              "    .colab-df-container {\n",
              "      display:flex;\n",
              "      flex-wrap:wrap;\n",
              "      gap: 12px;\n",
              "    }\n",
              "\n",
              "    .colab-df-convert {\n",
              "      background-color: #E8F0FE;\n",
              "      border: none;\n",
              "      border-radius: 50%;\n",
              "      cursor: pointer;\n",
              "      display: none;\n",
              "      fill: #1967D2;\n",
              "      height: 32px;\n",
              "      padding: 0 0 0 0;\n",
              "      width: 32px;\n",
              "    }\n",
              "\n",
              "    .colab-df-convert:hover {\n",
              "      background-color: #E2EBFA;\n",
              "      box-shadow: 0px 1px 2px rgba(60, 64, 67, 0.3), 0px 1px 3px 1px rgba(60, 64, 67, 0.15);\n",
              "      fill: #174EA6;\n",
              "    }\n",
              "\n",
              "    [theme=dark] .colab-df-convert {\n",
              "      background-color: #3B4455;\n",
              "      fill: #D2E3FC;\n",
              "    }\n",
              "\n",
              "    [theme=dark] .colab-df-convert:hover {\n",
              "      background-color: #434B5C;\n",
              "      box-shadow: 0px 1px 3px 1px rgba(0, 0, 0, 0.15);\n",
              "      filter: drop-shadow(0px 1px 2px rgba(0, 0, 0, 0.3));\n",
              "      fill: #FFFFFF;\n",
              "    }\n",
              "  </style>\n",
              "\n",
              "      <script>\n",
              "        const buttonEl =\n",
              "          document.querySelector('#df-103e2339-e8f1-4a1d-9ff0-4c7adbba41d5 button.colab-df-convert');\n",
              "        buttonEl.style.display =\n",
              "          google.colab.kernel.accessAllowed ? 'block' : 'none';\n",
              "\n",
              "        async function convertToInteractive(key) {\n",
              "          const element = document.querySelector('#df-103e2339-e8f1-4a1d-9ff0-4c7adbba41d5');\n",
              "          const dataTable =\n",
              "            await google.colab.kernel.invokeFunction('convertToInteractive',\n",
              "                                                     [key], {});\n",
              "          if (!dataTable) return;\n",
              "\n",
              "          const docLinkHtml = 'Like what you see? Visit the ' +\n",
              "            '<a target=\"_blank\" href=https://colab.research.google.com/notebooks/data_table.ipynb>data table notebook</a>'\n",
              "            + ' to learn more about interactive tables.';\n",
              "          element.innerHTML = '';\n",
              "          dataTable['output_type'] = 'display_data';\n",
              "          await google.colab.output.renderOutput(dataTable, element);\n",
              "          const docLink = document.createElement('div');\n",
              "          docLink.innerHTML = docLinkHtml;\n",
              "          element.appendChild(docLink);\n",
              "        }\n",
              "      </script>\n",
              "    </div>\n",
              "  </div>\n",
              "  "
            ]
          },
          "metadata": {},
          "execution_count": 19
        }
      ]
    }
  ]
}