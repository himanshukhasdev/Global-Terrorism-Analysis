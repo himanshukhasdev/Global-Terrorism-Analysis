{
  "nbformat": 4,
  "nbformat_minor": 0,
  "metadata": {
    "kernelspec": {
      "display_name": "Python 3",
      "language": "python",
      "name": "python3"
    },
    "language_info": {
      "codemirror_mode": {
        "name": "ipython",
        "version": 3
      },
      "file_extension": ".py",
      "mimetype": "text/x-python",
      "name": "python",
      "nbconvert_exporter": "python",
      "pygments_lexer": "ipython3",
      "version": "3.6.6"
    },
    "colab": {
      "provenance": [],
      "collapsed_sections": [],
      "include_colab_link": true
    }
  },
  "cells": [
    {
      "cell_type": "markdown",
      "metadata": {
        "id": "view-in-github",
        "colab_type": "text"
      },
      "source": [
        "<a href=\"https://colab.research.google.com/github/himanshukhasdev/Global-Terrorism-Analysis/blob/main/Himanshu_Khasdev_Global_Terrorism_Analysis_Capstone_Project.ipynb\" target=\"_parent\"><img src=\"https://colab.research.google.com/assets/colab-badge.svg\" alt=\"Open In Colab\"/></a>"
      ]
    },
    {
      "cell_type": "markdown",
      "metadata": {
        "id": "Y06xIdG26kRF"
      },
      "source": [
        "## <b> The Global Terrorism Database (GTD) is an open-source database including information on terrorist attacks around the world from 1970 through 2017. The GTD includes systematic data on domestic as well as international terrorist incidents that have occurred during this time period and now includes more than 180,000 attacks. The database is maintained by researchers at the National Consortium for the Study of Terrorism and Responses to Terrorism (START), headquartered at the University of Maryland.</b>\n",
        "\n",
        "# <b> Explore and analyze the data to discover key findings pertaining to terrorist activities. </b>"
      ]
    },
    {
      "cell_type": "markdown",
      "source": [
        "Things I am doing in this kernel is something like:\n",
        "\n",
        "1. Understand the dataset : We'll look at each variable and analyze about their meaning and importance in this dataset.\n",
        "2. Basic cleaning : We'll clean the dataset and handle the missing data.\n",
        "3. Key findings includes :\n",
        "*   Terrorist Attack Frequency with every year \n",
        "*   In which year the maximum attacks were taking place ?\n",
        "\n",
        "*   Which city was the favorite target of terrorist?\n",
        "\n",
        "*   Which type of weapon was used in maximum attacks?\n",
        "*   Which terrorist organization was more active?\n",
        "\n",
        "\n",
        "*   and so on!\n",
        "\n",
        "\n",
        "\n",
        "\n",
        "\n",
        "Now, it's time to have fun!"
      ],
      "metadata": {
        "id": "7oJOFk8yLJRv"
      }
    },
    {
      "cell_type": "code",
      "metadata": {
        "id": "dByMsuzT8Tnw"
      },
      "source": [
        "#Importing import libraries\n",
        "import pandas as pd                        #for data accessing and processing \n",
        "import numpy as np                         #for linear algebra \n",
        "import matplotlib.pyplot as plt            #for plotting graphs and charts\n",
        "%matplotlib inline\n",
        "import seaborn as sns                      #for plotting graphs and charts\n",
        "import warnings                            #for ignoring irrelevant warning messages\n",
        "warnings.filterwarnings('ignore')"
      ],
      "execution_count": 1,
      "outputs": []
    },
    {
      "cell_type": "code",
      "source": [
        "from google.colab import drive             #for drive mounting\n",
        "drive.mount('/content/drive')"
      ],
      "metadata": {
        "colab": {
          "base_uri": "https://localhost:8080/"
        },
        "id": "a2T6uYsdIIZr",
        "outputId": "7bbc66ae-fe28-4860-da7c-2cee0aa3beaf"
      },
      "execution_count": 2,
      "outputs": [
        {
          "output_type": "stream",
          "name": "stdout",
          "text": [
            "Mounted at /content/drive\n"
          ]
        }
      ]
    },
    {
      "cell_type": "code",
      "source": [
        "#reading data using read_csv\n",
        "df = pd.read_csv('/content/drive/MyDrive/Capstone Project-EDA/Global Terrorism Data.csv',encoding=\"ISO-8859-1\")\n",
        "df.head()"
      ],
      "metadata": {
        "id": "mg51Wjz4EPcj",
        "colab": {
          "base_uri": "https://localhost:8080/",
          "height": 317
        },
        "outputId": "60130237-8a9b-4971-e4fd-0613114e3e95"
      },
      "execution_count": 3,
      "outputs": [
        {
          "output_type": "execute_result",
          "data": {
            "text/plain": [
              "        eventid  iyear  imonth  iday approxdate  extended resolution  country  \\\n",
              "0  197000000001   1970       7     2        NaN         0        NaN       58   \n",
              "1  197000000002   1970       0     0        NaN         0        NaN      130   \n",
              "2  197001000001   1970       1     0        NaN         0        NaN      160   \n",
              "3  197001000002   1970       1     0        NaN         0        NaN       78   \n",
              "4  197001000003   1970       1     0        NaN         0        NaN      101   \n",
              "\n",
              "          country_txt  region  ... addnotes scite1 scite2  scite3  dbsource  \\\n",
              "0  Dominican Republic       2  ...      NaN    NaN    NaN     NaN      PGIS   \n",
              "1              Mexico       1  ...      NaN    NaN    NaN     NaN      PGIS   \n",
              "2         Philippines       5  ...      NaN    NaN    NaN     NaN      PGIS   \n",
              "3              Greece       8  ...      NaN    NaN    NaN     NaN      PGIS   \n",
              "4               Japan       4  ...      NaN    NaN    NaN     NaN      PGIS   \n",
              "\n",
              "   INT_LOG  INT_IDEO INT_MISC INT_ANY  related  \n",
              "0        0         0        0       0      NaN  \n",
              "1        0         1        1       1      NaN  \n",
              "2       -9        -9        1       1      NaN  \n",
              "3       -9        -9        1       1      NaN  \n",
              "4       -9        -9        1       1      NaN  \n",
              "\n",
              "[5 rows x 135 columns]"
            ],
            "text/html": [
              "\n",
              "  <div id=\"df-db7d5ea6-14b1-44f5-8f37-a6b1542fedc4\">\n",
              "    <div class=\"colab-df-container\">\n",
              "      <div>\n",
              "<style scoped>\n",
              "    .dataframe tbody tr th:only-of-type {\n",
              "        vertical-align: middle;\n",
              "    }\n",
              "\n",
              "    .dataframe tbody tr th {\n",
              "        vertical-align: top;\n",
              "    }\n",
              "\n",
              "    .dataframe thead th {\n",
              "        text-align: right;\n",
              "    }\n",
              "</style>\n",
              "<table border=\"1\" class=\"dataframe\">\n",
              "  <thead>\n",
              "    <tr style=\"text-align: right;\">\n",
              "      <th></th>\n",
              "      <th>eventid</th>\n",
              "      <th>iyear</th>\n",
              "      <th>imonth</th>\n",
              "      <th>iday</th>\n",
              "      <th>approxdate</th>\n",
              "      <th>extended</th>\n",
              "      <th>resolution</th>\n",
              "      <th>country</th>\n",
              "      <th>country_txt</th>\n",
              "      <th>region</th>\n",
              "      <th>...</th>\n",
              "      <th>addnotes</th>\n",
              "      <th>scite1</th>\n",
              "      <th>scite2</th>\n",
              "      <th>scite3</th>\n",
              "      <th>dbsource</th>\n",
              "      <th>INT_LOG</th>\n",
              "      <th>INT_IDEO</th>\n",
              "      <th>INT_MISC</th>\n",
              "      <th>INT_ANY</th>\n",
              "      <th>related</th>\n",
              "    </tr>\n",
              "  </thead>\n",
              "  <tbody>\n",
              "    <tr>\n",
              "      <th>0</th>\n",
              "      <td>197000000001</td>\n",
              "      <td>1970</td>\n",
              "      <td>7</td>\n",
              "      <td>2</td>\n",
              "      <td>NaN</td>\n",
              "      <td>0</td>\n",
              "      <td>NaN</td>\n",
              "      <td>58</td>\n",
              "      <td>Dominican Republic</td>\n",
              "      <td>2</td>\n",
              "      <td>...</td>\n",
              "      <td>NaN</td>\n",
              "      <td>NaN</td>\n",
              "      <td>NaN</td>\n",
              "      <td>NaN</td>\n",
              "      <td>PGIS</td>\n",
              "      <td>0</td>\n",
              "      <td>0</td>\n",
              "      <td>0</td>\n",
              "      <td>0</td>\n",
              "      <td>NaN</td>\n",
              "    </tr>\n",
              "    <tr>\n",
              "      <th>1</th>\n",
              "      <td>197000000002</td>\n",
              "      <td>1970</td>\n",
              "      <td>0</td>\n",
              "      <td>0</td>\n",
              "      <td>NaN</td>\n",
              "      <td>0</td>\n",
              "      <td>NaN</td>\n",
              "      <td>130</td>\n",
              "      <td>Mexico</td>\n",
              "      <td>1</td>\n",
              "      <td>...</td>\n",
              "      <td>NaN</td>\n",
              "      <td>NaN</td>\n",
              "      <td>NaN</td>\n",
              "      <td>NaN</td>\n",
              "      <td>PGIS</td>\n",
              "      <td>0</td>\n",
              "      <td>1</td>\n",
              "      <td>1</td>\n",
              "      <td>1</td>\n",
              "      <td>NaN</td>\n",
              "    </tr>\n",
              "    <tr>\n",
              "      <th>2</th>\n",
              "      <td>197001000001</td>\n",
              "      <td>1970</td>\n",
              "      <td>1</td>\n",
              "      <td>0</td>\n",
              "      <td>NaN</td>\n",
              "      <td>0</td>\n",
              "      <td>NaN</td>\n",
              "      <td>160</td>\n",
              "      <td>Philippines</td>\n",
              "      <td>5</td>\n",
              "      <td>...</td>\n",
              "      <td>NaN</td>\n",
              "      <td>NaN</td>\n",
              "      <td>NaN</td>\n",
              "      <td>NaN</td>\n",
              "      <td>PGIS</td>\n",
              "      <td>-9</td>\n",
              "      <td>-9</td>\n",
              "      <td>1</td>\n",
              "      <td>1</td>\n",
              "      <td>NaN</td>\n",
              "    </tr>\n",
              "    <tr>\n",
              "      <th>3</th>\n",
              "      <td>197001000002</td>\n",
              "      <td>1970</td>\n",
              "      <td>1</td>\n",
              "      <td>0</td>\n",
              "      <td>NaN</td>\n",
              "      <td>0</td>\n",
              "      <td>NaN</td>\n",
              "      <td>78</td>\n",
              "      <td>Greece</td>\n",
              "      <td>8</td>\n",
              "      <td>...</td>\n",
              "      <td>NaN</td>\n",
              "      <td>NaN</td>\n",
              "      <td>NaN</td>\n",
              "      <td>NaN</td>\n",
              "      <td>PGIS</td>\n",
              "      <td>-9</td>\n",
              "      <td>-9</td>\n",
              "      <td>1</td>\n",
              "      <td>1</td>\n",
              "      <td>NaN</td>\n",
              "    </tr>\n",
              "    <tr>\n",
              "      <th>4</th>\n",
              "      <td>197001000003</td>\n",
              "      <td>1970</td>\n",
              "      <td>1</td>\n",
              "      <td>0</td>\n",
              "      <td>NaN</td>\n",
              "      <td>0</td>\n",
              "      <td>NaN</td>\n",
              "      <td>101</td>\n",
              "      <td>Japan</td>\n",
              "      <td>4</td>\n",
              "      <td>...</td>\n",
              "      <td>NaN</td>\n",
              "      <td>NaN</td>\n",
              "      <td>NaN</td>\n",
              "      <td>NaN</td>\n",
              "      <td>PGIS</td>\n",
              "      <td>-9</td>\n",
              "      <td>-9</td>\n",
              "      <td>1</td>\n",
              "      <td>1</td>\n",
              "      <td>NaN</td>\n",
              "    </tr>\n",
              "  </tbody>\n",
              "</table>\n",
              "<p>5 rows × 135 columns</p>\n",
              "</div>\n",
              "      <button class=\"colab-df-convert\" onclick=\"convertToInteractive('df-db7d5ea6-14b1-44f5-8f37-a6b1542fedc4')\"\n",
              "              title=\"Convert this dataframe to an interactive table.\"\n",
              "              style=\"display:none;\">\n",
              "        \n",
              "  <svg xmlns=\"http://www.w3.org/2000/svg\" height=\"24px\"viewBox=\"0 0 24 24\"\n",
              "       width=\"24px\">\n",
              "    <path d=\"M0 0h24v24H0V0z\" fill=\"none\"/>\n",
              "    <path d=\"M18.56 5.44l.94 2.06.94-2.06 2.06-.94-2.06-.94-.94-2.06-.94 2.06-2.06.94zm-11 1L8.5 8.5l.94-2.06 2.06-.94-2.06-.94L8.5 2.5l-.94 2.06-2.06.94zm10 10l.94 2.06.94-2.06 2.06-.94-2.06-.94-.94-2.06-.94 2.06-2.06.94z\"/><path d=\"M17.41 7.96l-1.37-1.37c-.4-.4-.92-.59-1.43-.59-.52 0-1.04.2-1.43.59L10.3 9.45l-7.72 7.72c-.78.78-.78 2.05 0 2.83L4 21.41c.39.39.9.59 1.41.59.51 0 1.02-.2 1.41-.59l7.78-7.78 2.81-2.81c.8-.78.8-2.07 0-2.86zM5.41 20L4 18.59l7.72-7.72 1.47 1.35L5.41 20z\"/>\n",
              "  </svg>\n",
              "      </button>\n",
              "      \n",
              "  <style>\n",
              "    .colab-df-container {\n",
              "      display:flex;\n",
              "      flex-wrap:wrap;\n",
              "      gap: 12px;\n",
              "    }\n",
              "\n",
              "    .colab-df-convert {\n",
              "      background-color: #E8F0FE;\n",
              "      border: none;\n",
              "      border-radius: 50%;\n",
              "      cursor: pointer;\n",
              "      display: none;\n",
              "      fill: #1967D2;\n",
              "      height: 32px;\n",
              "      padding: 0 0 0 0;\n",
              "      width: 32px;\n",
              "    }\n",
              "\n",
              "    .colab-df-convert:hover {\n",
              "      background-color: #E2EBFA;\n",
              "      box-shadow: 0px 1px 2px rgba(60, 64, 67, 0.3), 0px 1px 3px 1px rgba(60, 64, 67, 0.15);\n",
              "      fill: #174EA6;\n",
              "    }\n",
              "\n",
              "    [theme=dark] .colab-df-convert {\n",
              "      background-color: #3B4455;\n",
              "      fill: #D2E3FC;\n",
              "    }\n",
              "\n",
              "    [theme=dark] .colab-df-convert:hover {\n",
              "      background-color: #434B5C;\n",
              "      box-shadow: 0px 1px 3px 1px rgba(0, 0, 0, 0.15);\n",
              "      filter: drop-shadow(0px 1px 2px rgba(0, 0, 0, 0.3));\n",
              "      fill: #FFFFFF;\n",
              "    }\n",
              "  </style>\n",
              "\n",
              "      <script>\n",
              "        const buttonEl =\n",
              "          document.querySelector('#df-db7d5ea6-14b1-44f5-8f37-a6b1542fedc4 button.colab-df-convert');\n",
              "        buttonEl.style.display =\n",
              "          google.colab.kernel.accessAllowed ? 'block' : 'none';\n",
              "\n",
              "        async function convertToInteractive(key) {\n",
              "          const element = document.querySelector('#df-db7d5ea6-14b1-44f5-8f37-a6b1542fedc4');\n",
              "          const dataTable =\n",
              "            await google.colab.kernel.invokeFunction('convertToInteractive',\n",
              "                                                     [key], {});\n",
              "          if (!dataTable) return;\n",
              "\n",
              "          const docLinkHtml = 'Like what you see? Visit the ' +\n",
              "            '<a target=\"_blank\" href=https://colab.research.google.com/notebooks/data_table.ipynb>data table notebook</a>'\n",
              "            + ' to learn more about interactive tables.';\n",
              "          element.innerHTML = '';\n",
              "          dataTable['output_type'] = 'display_data';\n",
              "          await google.colab.output.renderOutput(dataTable, element);\n",
              "          const docLink = document.createElement('div');\n",
              "          docLink.innerHTML = docLinkHtml;\n",
              "          element.appendChild(docLink);\n",
              "        }\n",
              "      </script>\n",
              "    </div>\n",
              "  </div>\n",
              "  "
            ]
          },
          "metadata": {},
          "execution_count": 3
        }
      ]
    },
    {
      "cell_type": "code",
      "source": [
        "#checking no. of columns\n",
        "df.columns"
      ],
      "metadata": {
        "colab": {
          "base_uri": "https://localhost:8080/"
        },
        "id": "6iKC7LXiOFyU",
        "outputId": "6b6a2452-af80-4027-95a2-93ee8f51a59e"
      },
      "execution_count": 4,
      "outputs": [
        {
          "output_type": "execute_result",
          "data": {
            "text/plain": [
              "Index(['eventid', 'iyear', 'imonth', 'iday', 'approxdate', 'extended',\n",
              "       'resolution', 'country', 'country_txt', 'region',\n",
              "       ...\n",
              "       'addnotes', 'scite1', 'scite2', 'scite3', 'dbsource', 'INT_LOG',\n",
              "       'INT_IDEO', 'INT_MISC', 'INT_ANY', 'related'],\n",
              "      dtype='object', length=135)"
            ]
          },
          "metadata": {},
          "execution_count": 4
        }
      ]
    },
    {
      "cell_type": "code",
      "source": [
        "#checking shape \n",
        "df.shape"
      ],
      "metadata": {
        "colab": {
          "base_uri": "https://localhost:8080/"
        },
        "id": "S4fTZHOJOFvk",
        "outputId": "844e5ad4-f22c-4a81-c5ee-9063a6465740"
      },
      "execution_count": 5,
      "outputs": [
        {
          "output_type": "execute_result",
          "data": {
            "text/plain": [
              "(181691, 135)"
            ]
          },
          "metadata": {},
          "execution_count": 5
        }
      ]
    },
    {
      "cell_type": "code",
      "source": [
        "#checking size of dataset\n",
        "df.size"
      ],
      "metadata": {
        "colab": {
          "base_uri": "https://localhost:8080/"
        },
        "id": "gm0rjYpHW3ws",
        "outputId": "b9040c80-5f3e-46c2-8a6a-e98629f1aa69"
      },
      "execution_count": 6,
      "outputs": [
        {
          "output_type": "execute_result",
          "data": {
            "text/plain": [
              "24528285"
            ]
          },
          "metadata": {},
          "execution_count": 6
        }
      ]
    },
    {
      "cell_type": "markdown",
      "source": [
        "#**Data Cleaning & Considering Columns Which Have Null Values Less Than 50%**"
      ],
      "metadata": {
        "id": "VZ8AXOTpDjh-"
      }
    },
    {
      "cell_type": "code",
      "source": [
        "#Keeping only those columns which have <50% nulls\n",
        "main_cols = []\n",
        "for i in df.columns:\n",
        "  if df[i].isna().sum()<0.50*len(df):\n",
        "    main_cols.append (i)\n",
        "main_cols"
      ],
      "metadata": {
        "colab": {
          "base_uri": "https://localhost:8080/"
        },
        "id": "HYmqtVkNTOYR",
        "outputId": "92505ddb-967a-4564-86ab-9631054d1f09"
      },
      "execution_count": 7,
      "outputs": [
        {
          "output_type": "execute_result",
          "data": {
            "text/plain": [
              "['eventid',\n",
              " 'iyear',\n",
              " 'imonth',\n",
              " 'iday',\n",
              " 'extended',\n",
              " 'country',\n",
              " 'country_txt',\n",
              " 'region',\n",
              " 'region_txt',\n",
              " 'provstate',\n",
              " 'city',\n",
              " 'latitude',\n",
              " 'longitude',\n",
              " 'specificity',\n",
              " 'vicinity',\n",
              " 'summary',\n",
              " 'crit1',\n",
              " 'crit2',\n",
              " 'crit3',\n",
              " 'doubtterr',\n",
              " 'multiple',\n",
              " 'success',\n",
              " 'suicide',\n",
              " 'attacktype1',\n",
              " 'attacktype1_txt',\n",
              " 'targtype1',\n",
              " 'targtype1_txt',\n",
              " 'targsubtype1',\n",
              " 'targsubtype1_txt',\n",
              " 'corp1',\n",
              " 'target1',\n",
              " 'natlty1',\n",
              " 'natlty1_txt',\n",
              " 'gname',\n",
              " 'guncertain1',\n",
              " 'individual',\n",
              " 'nperps',\n",
              " 'nperpcap',\n",
              " 'claimed',\n",
              " 'weaptype1',\n",
              " 'weaptype1_txt',\n",
              " 'weapsubtype1',\n",
              " 'weapsubtype1_txt',\n",
              " 'weapdetail',\n",
              " 'nkill',\n",
              " 'nkillus',\n",
              " 'nkillter',\n",
              " 'nwound',\n",
              " 'nwoundus',\n",
              " 'nwoundte',\n",
              " 'property',\n",
              " 'ishostkid',\n",
              " 'scite1',\n",
              " 'dbsource',\n",
              " 'INT_LOG',\n",
              " 'INT_IDEO',\n",
              " 'INT_MISC',\n",
              " 'INT_ANY']"
            ]
          },
          "metadata": {},
          "execution_count": 7
        }
      ]
    },
    {
      "cell_type": "code",
      "source": [
        "new_df=df[main_cols]"
      ],
      "metadata": {
        "id": "RMjSidrLdywn"
      },
      "execution_count": 8,
      "outputs": []
    },
    {
      "cell_type": "code",
      "source": [
        "#checking shape of new data\n",
        "new_df.shape"
      ],
      "metadata": {
        "colab": {
          "base_uri": "https://localhost:8080/"
        },
        "id": "icfeQ2njP26P",
        "outputId": "7d15edd5-db78-4b9e-f1e3-7548ca78e650"
      },
      "execution_count": 9,
      "outputs": [
        {
          "output_type": "execute_result",
          "data": {
            "text/plain": [
              "(181691, 58)"
            ]
          },
          "metadata": {},
          "execution_count": 9
        }
      ]
    },
    {
      "cell_type": "code",
      "source": [
        "#checking if new data have null values or not\n",
        "new_df.isnull().sum()"
      ],
      "metadata": {
        "colab": {
          "base_uri": "https://localhost:8080/"
        },
        "id": "Dr7ZnzuRlP_Z",
        "outputId": "933e78e6-2963-46dc-9797-6e8a082fc2f4"
      },
      "execution_count": 10,
      "outputs": [
        {
          "output_type": "execute_result",
          "data": {
            "text/plain": [
              "eventid                 0\n",
              "iyear                   0\n",
              "imonth                  0\n",
              "iday                    0\n",
              "extended                0\n",
              "country                 0\n",
              "country_txt             0\n",
              "region                  0\n",
              "region_txt              0\n",
              "provstate             421\n",
              "city                  434\n",
              "latitude             4556\n",
              "longitude            4557\n",
              "specificity             6\n",
              "vicinity                0\n",
              "summary             66129\n",
              "crit1                   0\n",
              "crit2                   0\n",
              "crit3                   0\n",
              "doubtterr               1\n",
              "multiple                1\n",
              "success                 0\n",
              "suicide                 0\n",
              "attacktype1             0\n",
              "attacktype1_txt         0\n",
              "targtype1               0\n",
              "targtype1_txt           0\n",
              "targsubtype1        10373\n",
              "targsubtype1_txt    10373\n",
              "corp1               42550\n",
              "target1               636\n",
              "natlty1              1559\n",
              "natlty1_txt          1559\n",
              "gname                   0\n",
              "guncertain1           380\n",
              "individual              0\n",
              "nperps              71115\n",
              "nperpcap            69489\n",
              "claimed             66120\n",
              "weaptype1               0\n",
              "weaptype1_txt           0\n",
              "weapsubtype1        20768\n",
              "weapsubtype1_txt    20768\n",
              "weapdetail          67670\n",
              "nkill               10313\n",
              "nkillus             64446\n",
              "nkillter            66958\n",
              "nwound              16311\n",
              "nwoundus            64702\n",
              "nwoundte            69143\n",
              "property                0\n",
              "ishostkid             178\n",
              "scite1              66191\n",
              "dbsource                0\n",
              "INT_LOG                 0\n",
              "INT_IDEO                0\n",
              "INT_MISC                0\n",
              "INT_ANY                 0\n",
              "dtype: int64"
            ]
          },
          "metadata": {},
          "execution_count": 10
        }
      ]
    },
    {
      "cell_type": "code",
      "source": [
        "new_df.isnull().sum()/len(new_df) *100"
      ],
      "metadata": {
        "colab": {
          "base_uri": "https://localhost:8080/"
        },
        "id": "3K04p2DFY3kP",
        "outputId": "fe70b148-fe2e-4aaa-900f-b31a50b5fcc8"
      },
      "execution_count": 11,
      "outputs": [
        {
          "output_type": "execute_result",
          "data": {
            "text/plain": [
              "eventid              0.000000\n",
              "iyear                0.000000\n",
              "imonth               0.000000\n",
              "iday                 0.000000\n",
              "extended             0.000000\n",
              "country              0.000000\n",
              "country_txt          0.000000\n",
              "region               0.000000\n",
              "region_txt           0.000000\n",
              "provstate            0.231712\n",
              "city                 0.238867\n",
              "latitude             2.507554\n",
              "longitude            2.508104\n",
              "specificity          0.003302\n",
              "vicinity             0.000000\n",
              "summary             36.396409\n",
              "crit1                0.000000\n",
              "crit2                0.000000\n",
              "crit3                0.000000\n",
              "doubtterr            0.000550\n",
              "multiple             0.000550\n",
              "success              0.000000\n",
              "suicide              0.000000\n",
              "attacktype1          0.000000\n",
              "attacktype1_txt      0.000000\n",
              "targtype1            0.000000\n",
              "targtype1_txt        0.000000\n",
              "targsubtype1         5.709144\n",
              "targsubtype1_txt     5.709144\n",
              "corp1               23.418882\n",
              "target1              0.350045\n",
              "natlty1              0.858050\n",
              "natlty1_txt          0.858050\n",
              "gname                0.000000\n",
              "guncertain1          0.209146\n",
              "individual           0.000000\n",
              "nperps              39.140629\n",
              "nperpcap            38.245703\n",
              "claimed             36.391456\n",
              "weaptype1            0.000000\n",
              "weaptype1_txt        0.000000\n",
              "weapsubtype1        11.430396\n",
              "weapsubtype1_txt    11.430396\n",
              "weapdetail          37.244553\n",
              "nkill                5.676120\n",
              "nkillus             35.470111\n",
              "nkillter            36.852678\n",
              "nwound               8.977330\n",
              "nwoundus            35.611010\n",
              "nwoundte            38.055270\n",
              "property             0.000000\n",
              "ishostkid            0.097969\n",
              "scite1              36.430533\n",
              "dbsource             0.000000\n",
              "INT_LOG              0.000000\n",
              "INT_IDEO             0.000000\n",
              "INT_MISC             0.000000\n",
              "INT_ANY              0.000000\n",
              "dtype: float64"
            ]
          },
          "metadata": {},
          "execution_count": 11
        }
      ]
    },
    {
      "cell_type": "code",
      "source": [
        "#dropping duplicates from the remaining data\n",
        "duplicates = new_df.drop_duplicates()\n",
        "if len(duplicates)==len(new_df):\n",
        "  print(\"No Duplicates\")\n",
        "else:\n",
        "  print (\"Duplicates Removed\")"
      ],
      "metadata": {
        "colab": {
          "base_uri": "https://localhost:8080/"
        },
        "id": "Lk-n7jKHR6ao",
        "outputId": "d8493002-ed35-4217-a366-504aa34fae6f"
      },
      "execution_count": 12,
      "outputs": [
        {
          "output_type": "stream",
          "name": "stdout",
          "text": [
            "No Duplicates\n"
          ]
        }
      ]
    },
    {
      "cell_type": "code",
      "source": [
        "new_df.dtypes"
      ],
      "metadata": {
        "colab": {
          "base_uri": "https://localhost:8080/"
        },
        "id": "g-KdjR-WSrc-",
        "outputId": "8f633302-aa82-451a-fd87-982070aa61e1"
      },
      "execution_count": 13,
      "outputs": [
        {
          "output_type": "execute_result",
          "data": {
            "text/plain": [
              "eventid               int64\n",
              "iyear                 int64\n",
              "imonth                int64\n",
              "iday                  int64\n",
              "extended              int64\n",
              "country               int64\n",
              "country_txt          object\n",
              "region                int64\n",
              "region_txt           object\n",
              "provstate            object\n",
              "city                 object\n",
              "latitude            float64\n",
              "longitude           float64\n",
              "specificity         float64\n",
              "vicinity              int64\n",
              "summary              object\n",
              "crit1                 int64\n",
              "crit2                 int64\n",
              "crit3                 int64\n",
              "doubtterr           float64\n",
              "multiple            float64\n",
              "success               int64\n",
              "suicide               int64\n",
              "attacktype1           int64\n",
              "attacktype1_txt      object\n",
              "targtype1             int64\n",
              "targtype1_txt        object\n",
              "targsubtype1        float64\n",
              "targsubtype1_txt     object\n",
              "corp1                object\n",
              "target1              object\n",
              "natlty1             float64\n",
              "natlty1_txt          object\n",
              "gname                object\n",
              "guncertain1         float64\n",
              "individual            int64\n",
              "nperps              float64\n",
              "nperpcap            float64\n",
              "claimed             float64\n",
              "weaptype1             int64\n",
              "weaptype1_txt        object\n",
              "weapsubtype1        float64\n",
              "weapsubtype1_txt     object\n",
              "weapdetail           object\n",
              "nkill               float64\n",
              "nkillus             float64\n",
              "nkillter            float64\n",
              "nwound              float64\n",
              "nwoundus            float64\n",
              "nwoundte            float64\n",
              "property              int64\n",
              "ishostkid           float64\n",
              "scite1               object\n",
              "dbsource             object\n",
              "INT_LOG               int64\n",
              "INT_IDEO              int64\n",
              "INT_MISC              int64\n",
              "INT_ANY               int64\n",
              "dtype: object"
            ]
          },
          "metadata": {},
          "execution_count": 13
        }
      ]
    },
    {
      "cell_type": "markdown",
      "source": [
        "#**Taking Relevent Columns For Analysis Only**"
      ],
      "metadata": {
        "id": "BMIoq3rVC-l7"
      }
    },
    {
      "cell_type": "code",
      "source": [
        "#This dataset consist of 135 columns and most of the columns are having maximum null values,so we removed the null values and keep only neccessary columns from the dataset.\n",
        "\n",
        "relevant_columns=['eventid','iyear','imonth','iday','country_txt','provstate','city','region_txt','attacktype1_txt','target1','success','nkill','nwound','summary','gname','targtype1_txt','weaptype1_txt']"
      ],
      "metadata": {
        "id": "5xDzvxv8l_Gg"
      },
      "execution_count": 14,
      "outputs": []
    },
    {
      "cell_type": "code",
      "source": [
        "data = new_df[relevant_columns]"
      ],
      "metadata": {
        "id": "3pfTbVBgpE3W"
      },
      "execution_count": 15,
      "outputs": []
    },
    {
      "cell_type": "code",
      "source": [
        "#the columns heading not make any sense,so we will rename it for better understanding.\n",
        "data.rename(columns={'iyear':'Year','imonth':'Month','iday':'Day','country_txt':'Country','provstate':'State','city':'City','region_txt':'Region','attacktype1_txt':'AttackType','target1':'Target','success':'Success','nkill':'Killed','nwound':'Wounded','gname':'Group','targtype1_txt':'Target_type','weaptype1_txt':'Weapon_type'},inplace=True)"
      ],
      "metadata": {
        "id": "lYH5Z_34Qnct"
      },
      "execution_count": 16,
      "outputs": []
    },
    {
      "cell_type": "markdown",
      "source": [
        "**Columns Detail:**\n",
        "\n",
        "1. 'Year' ➡ (Numeric Variable)This field contains the year in which the incident occurred.\n",
        "2. 'Month' ➡ (Numeric Variable)This field contains the number of the month in which the incident occurred.\n",
        "3. 'Day' ➡ (Numeric Variable)This field contains the numeric day of the month on which the incident occurred.\n",
        "4. 'Country' ➡ (Categorical Variable)This field identifies the country or location where the incident occurred.\n",
        "5. 'State' ➡ (Text Variable)This variable records the name (at the time of event) of the 1st order subnational administrative\n",
        "region in which the event occurs. \n",
        "6. 'City' ➡ (Text Variable)This field contains the name of the city, village, or town in which the incident occurred.\n",
        "7. 'Region' ➡ (Categorical Variable)This field identifies the region in which the incident occurred.\n",
        "8. 'AttackType' ➡ (Categorical Variable)This field captures the general method of attack and often reflects the broad class of tactics\n",
        "used.\n",
        "9. 'Target' ➡ (Text Variable)This is the specific person, building, installation, etc., that was targeted and/or victimized\n",
        "10. 'Success' ➡ (Categorical Variable)Success of a terrorist strike is defined according to the tangible effects of the attack.1 = \"Yes\" The incident was successful.0 = \"No\" The incident was not successful.\n",
        "11. 'Killed' ➡ (Numeric Variable)This field stores the number of total confirmed fatalities for the incident.\n",
        "12. 'Wounded' ➡ (Numeric Variable)This field records the number of confirmed non-fatal injuries to both perpetrators and victims. \n",
        "13. 'Group' ➡ (Text Variable)This field contains the name of the group that carried out the attack.\n",
        "14. 'Target_type' ➡ (Categorical Variable)The target/victim type field captures the general type of target/victim.\n",
        "15. 'Weapon_type' ➡ (Categorical Variable)Up to four weapon types are recorded for each incident."
      ],
      "metadata": {
        "id": "2V-LR5_oFNj6"
      }
    },
    {
      "cell_type": "code",
      "source": [
        "#Column \"eventid\" have no significant data for analysis\n",
        "data.drop('eventid',axis=1,inplace=True)"
      ],
      "metadata": {
        "id": "TrrpcDGBQwRt"
      },
      "execution_count": 17,
      "outputs": []
    },
    {
      "cell_type": "code",
      "source": [
        "data.shape"
      ],
      "metadata": {
        "colab": {
          "base_uri": "https://localhost:8080/"
        },
        "id": "0n40zfRXjyhR",
        "outputId": "f7cdefd4-cfe2-4ee9-d00b-1d8e060a3c80"
      },
      "execution_count": 18,
      "outputs": [
        {
          "output_type": "execute_result",
          "data": {
            "text/plain": [
              "(181691, 16)"
            ]
          },
          "metadata": {},
          "execution_count": 18
        }
      ]
    },
    {
      "cell_type": "code",
      "source": [
        "#chekcing the basic parameters like max, min,mean etc\n",
        "#applicable only on columns containing numerical values\n",
        "data.describe()"
      ],
      "metadata": {
        "colab": {
          "base_uri": "https://localhost:8080/",
          "height": 300
        },
        "id": "OZmaZm8XtK_G",
        "outputId": "7c7d0cc6-33fd-4cee-c4f4-c058367c1e2a"
      },
      "execution_count": 19,
      "outputs": [
        {
          "output_type": "execute_result",
          "data": {
            "text/plain": [
              "                Year          Month            Day        Success  \\\n",
              "count  181691.000000  181691.000000  181691.000000  181691.000000   \n",
              "mean     2002.638997       6.467277      15.505644       0.889598   \n",
              "std        13.259430       3.388303       8.814045       0.313391   \n",
              "min      1970.000000       0.000000       0.000000       0.000000   \n",
              "25%      1991.000000       4.000000       8.000000       1.000000   \n",
              "50%      2009.000000       6.000000      15.000000       1.000000   \n",
              "75%      2014.000000       9.000000      23.000000       1.000000   \n",
              "max      2017.000000      12.000000      31.000000       1.000000   \n",
              "\n",
              "              Killed        Wounded  \n",
              "count  171378.000000  165380.000000  \n",
              "mean        2.403272       3.167668  \n",
              "std        11.545741      35.949392  \n",
              "min         0.000000       0.000000  \n",
              "25%         0.000000       0.000000  \n",
              "50%         0.000000       0.000000  \n",
              "75%         2.000000       2.000000  \n",
              "max      1570.000000    8191.000000  "
            ],
            "text/html": [
              "\n",
              "  <div id=\"df-71f6beac-f113-4511-b10f-a314c61153f6\">\n",
              "    <div class=\"colab-df-container\">\n",
              "      <div>\n",
              "<style scoped>\n",
              "    .dataframe tbody tr th:only-of-type {\n",
              "        vertical-align: middle;\n",
              "    }\n",
              "\n",
              "    .dataframe tbody tr th {\n",
              "        vertical-align: top;\n",
              "    }\n",
              "\n",
              "    .dataframe thead th {\n",
              "        text-align: right;\n",
              "    }\n",
              "</style>\n",
              "<table border=\"1\" class=\"dataframe\">\n",
              "  <thead>\n",
              "    <tr style=\"text-align: right;\">\n",
              "      <th></th>\n",
              "      <th>Year</th>\n",
              "      <th>Month</th>\n",
              "      <th>Day</th>\n",
              "      <th>Success</th>\n",
              "      <th>Killed</th>\n",
              "      <th>Wounded</th>\n",
              "    </tr>\n",
              "  </thead>\n",
              "  <tbody>\n",
              "    <tr>\n",
              "      <th>count</th>\n",
              "      <td>181691.000000</td>\n",
              "      <td>181691.000000</td>\n",
              "      <td>181691.000000</td>\n",
              "      <td>181691.000000</td>\n",
              "      <td>171378.000000</td>\n",
              "      <td>165380.000000</td>\n",
              "    </tr>\n",
              "    <tr>\n",
              "      <th>mean</th>\n",
              "      <td>2002.638997</td>\n",
              "      <td>6.467277</td>\n",
              "      <td>15.505644</td>\n",
              "      <td>0.889598</td>\n",
              "      <td>2.403272</td>\n",
              "      <td>3.167668</td>\n",
              "    </tr>\n",
              "    <tr>\n",
              "      <th>std</th>\n",
              "      <td>13.259430</td>\n",
              "      <td>3.388303</td>\n",
              "      <td>8.814045</td>\n",
              "      <td>0.313391</td>\n",
              "      <td>11.545741</td>\n",
              "      <td>35.949392</td>\n",
              "    </tr>\n",
              "    <tr>\n",
              "      <th>min</th>\n",
              "      <td>1970.000000</td>\n",
              "      <td>0.000000</td>\n",
              "      <td>0.000000</td>\n",
              "      <td>0.000000</td>\n",
              "      <td>0.000000</td>\n",
              "      <td>0.000000</td>\n",
              "    </tr>\n",
              "    <tr>\n",
              "      <th>25%</th>\n",
              "      <td>1991.000000</td>\n",
              "      <td>4.000000</td>\n",
              "      <td>8.000000</td>\n",
              "      <td>1.000000</td>\n",
              "      <td>0.000000</td>\n",
              "      <td>0.000000</td>\n",
              "    </tr>\n",
              "    <tr>\n",
              "      <th>50%</th>\n",
              "      <td>2009.000000</td>\n",
              "      <td>6.000000</td>\n",
              "      <td>15.000000</td>\n",
              "      <td>1.000000</td>\n",
              "      <td>0.000000</td>\n",
              "      <td>0.000000</td>\n",
              "    </tr>\n",
              "    <tr>\n",
              "      <th>75%</th>\n",
              "      <td>2014.000000</td>\n",
              "      <td>9.000000</td>\n",
              "      <td>23.000000</td>\n",
              "      <td>1.000000</td>\n",
              "      <td>2.000000</td>\n",
              "      <td>2.000000</td>\n",
              "    </tr>\n",
              "    <tr>\n",
              "      <th>max</th>\n",
              "      <td>2017.000000</td>\n",
              "      <td>12.000000</td>\n",
              "      <td>31.000000</td>\n",
              "      <td>1.000000</td>\n",
              "      <td>1570.000000</td>\n",
              "      <td>8191.000000</td>\n",
              "    </tr>\n",
              "  </tbody>\n",
              "</table>\n",
              "</div>\n",
              "      <button class=\"colab-df-convert\" onclick=\"convertToInteractive('df-71f6beac-f113-4511-b10f-a314c61153f6')\"\n",
              "              title=\"Convert this dataframe to an interactive table.\"\n",
              "              style=\"display:none;\">\n",
              "        \n",
              "  <svg xmlns=\"http://www.w3.org/2000/svg\" height=\"24px\"viewBox=\"0 0 24 24\"\n",
              "       width=\"24px\">\n",
              "    <path d=\"M0 0h24v24H0V0z\" fill=\"none\"/>\n",
              "    <path d=\"M18.56 5.44l.94 2.06.94-2.06 2.06-.94-2.06-.94-.94-2.06-.94 2.06-2.06.94zm-11 1L8.5 8.5l.94-2.06 2.06-.94-2.06-.94L8.5 2.5l-.94 2.06-2.06.94zm10 10l.94 2.06.94-2.06 2.06-.94-2.06-.94-.94-2.06-.94 2.06-2.06.94z\"/><path d=\"M17.41 7.96l-1.37-1.37c-.4-.4-.92-.59-1.43-.59-.52 0-1.04.2-1.43.59L10.3 9.45l-7.72 7.72c-.78.78-.78 2.05 0 2.83L4 21.41c.39.39.9.59 1.41.59.51 0 1.02-.2 1.41-.59l7.78-7.78 2.81-2.81c.8-.78.8-2.07 0-2.86zM5.41 20L4 18.59l7.72-7.72 1.47 1.35L5.41 20z\"/>\n",
              "  </svg>\n",
              "      </button>\n",
              "      \n",
              "  <style>\n",
              "    .colab-df-container {\n",
              "      display:flex;\n",
              "      flex-wrap:wrap;\n",
              "      gap: 12px;\n",
              "    }\n",
              "\n",
              "    .colab-df-convert {\n",
              "      background-color: #E8F0FE;\n",
              "      border: none;\n",
              "      border-radius: 50%;\n",
              "      cursor: pointer;\n",
              "      display: none;\n",
              "      fill: #1967D2;\n",
              "      height: 32px;\n",
              "      padding: 0 0 0 0;\n",
              "      width: 32px;\n",
              "    }\n",
              "\n",
              "    .colab-df-convert:hover {\n",
              "      background-color: #E2EBFA;\n",
              "      box-shadow: 0px 1px 2px rgba(60, 64, 67, 0.3), 0px 1px 3px 1px rgba(60, 64, 67, 0.15);\n",
              "      fill: #174EA6;\n",
              "    }\n",
              "\n",
              "    [theme=dark] .colab-df-convert {\n",
              "      background-color: #3B4455;\n",
              "      fill: #D2E3FC;\n",
              "    }\n",
              "\n",
              "    [theme=dark] .colab-df-convert:hover {\n",
              "      background-color: #434B5C;\n",
              "      box-shadow: 0px 1px 3px 1px rgba(0, 0, 0, 0.15);\n",
              "      filter: drop-shadow(0px 1px 2px rgba(0, 0, 0, 0.3));\n",
              "      fill: #FFFFFF;\n",
              "    }\n",
              "  </style>\n",
              "\n",
              "      <script>\n",
              "        const buttonEl =\n",
              "          document.querySelector('#df-71f6beac-f113-4511-b10f-a314c61153f6 button.colab-df-convert');\n",
              "        buttonEl.style.display =\n",
              "          google.colab.kernel.accessAllowed ? 'block' : 'none';\n",
              "\n",
              "        async function convertToInteractive(key) {\n",
              "          const element = document.querySelector('#df-71f6beac-f113-4511-b10f-a314c61153f6');\n",
              "          const dataTable =\n",
              "            await google.colab.kernel.invokeFunction('convertToInteractive',\n",
              "                                                     [key], {});\n",
              "          if (!dataTable) return;\n",
              "\n",
              "          const docLinkHtml = 'Like what you see? Visit the ' +\n",
              "            '<a target=\"_blank\" href=https://colab.research.google.com/notebooks/data_table.ipynb>data table notebook</a>'\n",
              "            + ' to learn more about interactive tables.';\n",
              "          element.innerHTML = '';\n",
              "          dataTable['output_type'] = 'display_data';\n",
              "          await google.colab.output.renderOutput(dataTable, element);\n",
              "          const docLink = document.createElement('div');\n",
              "          docLink.innerHTML = docLinkHtml;\n",
              "          element.appendChild(docLink);\n",
              "        }\n",
              "      </script>\n",
              "    </div>\n",
              "  </div>\n",
              "  "
            ]
          },
          "metadata": {},
          "execution_count": 19
        }
      ]
    },
    {
      "cell_type": "markdown",
      "source": [
        "#Checking Null Values using \"isna()\""
      ],
      "metadata": {
        "id": "dzV7nWxtsUgu"
      }
    },
    {
      "cell_type": "code",
      "source": [
        "#checking null values in remaining dataset\n",
        "data.isna().sum()"
      ],
      "metadata": {
        "colab": {
          "base_uri": "https://localhost:8080/"
        },
        "id": "SHXHF4k_rqz5",
        "outputId": "cbd09835-c782-4264-fe65-ab7fd556f237"
      },
      "execution_count": 20,
      "outputs": [
        {
          "output_type": "execute_result",
          "data": {
            "text/plain": [
              "Year               0\n",
              "Month              0\n",
              "Day                0\n",
              "Country            0\n",
              "State            421\n",
              "City             434\n",
              "Region             0\n",
              "AttackType         0\n",
              "Target           636\n",
              "Success            0\n",
              "Killed         10313\n",
              "Wounded        16311\n",
              "summary        66129\n",
              "Group              0\n",
              "Target_type        0\n",
              "Weapon_type        0\n",
              "dtype: int64"
            ]
          },
          "metadata": {},
          "execution_count": 20
        }
      ]
    },
    {
      "cell_type": "code",
      "source": [
        "#checking data types of individual columns\n",
        "data.dtypes"
      ],
      "metadata": {
        "colab": {
          "base_uri": "https://localhost:8080/"
        },
        "id": "lOvvUQsnrrm-",
        "outputId": "393d76c7-31d3-4b44-f0c3-a8d75def656c"
      },
      "execution_count": 21,
      "outputs": [
        {
          "output_type": "execute_result",
          "data": {
            "text/plain": [
              "Year             int64\n",
              "Month            int64\n",
              "Day              int64\n",
              "Country         object\n",
              "State           object\n",
              "City            object\n",
              "Region          object\n",
              "AttackType      object\n",
              "Target          object\n",
              "Success          int64\n",
              "Killed         float64\n",
              "Wounded        float64\n",
              "summary         object\n",
              "Group           object\n",
              "Target_type     object\n",
              "Weapon_type     object\n",
              "dtype: object"
            ]
          },
          "metadata": {},
          "execution_count": 21
        }
      ]
    },
    {
      "cell_type": "code",
      "source": [
        "#replacing null values with median in numerical columns\n",
        "for i in ['Killed','Wounded']:\n",
        "  data[i]=data[i].fillna(data[i].median())"
      ],
      "metadata": {
        "id": "52SpA3jnrwGk"
      },
      "execution_count": 22,
      "outputs": []
    },
    {
      "cell_type": "code",
      "source": [
        "#replacing null values with mode in categorical columns\n",
        "for i in ['State','City','Target']:\n",
        "  data[i]=data[i].fillna(data[i].mode()[0])"
      ],
      "metadata": {
        "id": "zUYQJtVWrwmf"
      },
      "execution_count": 24,
      "outputs": []
    },
    {
      "cell_type": "code",
      "source": [
        "#checking null values again\n",
        "data.isna().sum()"
      ],
      "metadata": {
        "colab": {
          "base_uri": "https://localhost:8080/"
        },
        "id": "4nZSYJPOrybv",
        "outputId": "895e4785-7c22-412e-fed8-f4f210dbcde7"
      },
      "execution_count": 25,
      "outputs": [
        {
          "output_type": "execute_result",
          "data": {
            "text/plain": [
              "Year               0\n",
              "Month              0\n",
              "Day                0\n",
              "Country            0\n",
              "State              0\n",
              "City               0\n",
              "Region             0\n",
              "AttackType         0\n",
              "Target             0\n",
              "Success            0\n",
              "Killed             0\n",
              "Wounded            0\n",
              "summary        66129\n",
              "Group              0\n",
              "Target_type        0\n",
              "Weapon_type        0\n",
              "dtype: int64"
            ]
          },
          "metadata": {},
          "execution_count": 25
        }
      ]
    },
    {
      "cell_type": "code",
      "source": [
        "#finding correlation of each column in the dataframe\n",
        "#only applicable on columns containing numerical variables\n",
        "data.corr()"
      ],
      "metadata": {
        "colab": {
          "base_uri": "https://localhost:8080/",
          "height": 237
        },
        "id": "KxfOaBW_r8FG",
        "outputId": "c83a8c22-9533-415c-a1b1-cf1a404bbc69"
      },
      "execution_count": 26,
      "outputs": [
        {
          "output_type": "execute_result",
          "data": {
            "text/plain": [
              "             Year     Month       Day   Success    Killed   Wounded\n",
              "Year     1.000000  0.000139  0.018254 -0.082963  0.021252  0.017484\n",
              "Month    0.000139  1.000000  0.005497 -0.002845  0.004031  0.003178\n",
              "Day      0.018254  0.005497  1.000000 -0.011802 -0.003225 -0.001082\n",
              "Success -0.082963 -0.002845 -0.011802  1.000000  0.049619  0.023346\n",
              "Killed   0.021252  0.004031 -0.003225  0.049619  1.000000  0.443326\n",
              "Wounded  0.017484  0.003178 -0.001082  0.023346  0.443326  1.000000"
            ],
            "text/html": [
              "\n",
              "  <div id=\"df-f94c133b-dd72-40f7-827f-53ed55d75712\">\n",
              "    <div class=\"colab-df-container\">\n",
              "      <div>\n",
              "<style scoped>\n",
              "    .dataframe tbody tr th:only-of-type {\n",
              "        vertical-align: middle;\n",
              "    }\n",
              "\n",
              "    .dataframe tbody tr th {\n",
              "        vertical-align: top;\n",
              "    }\n",
              "\n",
              "    .dataframe thead th {\n",
              "        text-align: right;\n",
              "    }\n",
              "</style>\n",
              "<table border=\"1\" class=\"dataframe\">\n",
              "  <thead>\n",
              "    <tr style=\"text-align: right;\">\n",
              "      <th></th>\n",
              "      <th>Year</th>\n",
              "      <th>Month</th>\n",
              "      <th>Day</th>\n",
              "      <th>Success</th>\n",
              "      <th>Killed</th>\n",
              "      <th>Wounded</th>\n",
              "    </tr>\n",
              "  </thead>\n",
              "  <tbody>\n",
              "    <tr>\n",
              "      <th>Year</th>\n",
              "      <td>1.000000</td>\n",
              "      <td>0.000139</td>\n",
              "      <td>0.018254</td>\n",
              "      <td>-0.082963</td>\n",
              "      <td>0.021252</td>\n",
              "      <td>0.017484</td>\n",
              "    </tr>\n",
              "    <tr>\n",
              "      <th>Month</th>\n",
              "      <td>0.000139</td>\n",
              "      <td>1.000000</td>\n",
              "      <td>0.005497</td>\n",
              "      <td>-0.002845</td>\n",
              "      <td>0.004031</td>\n",
              "      <td>0.003178</td>\n",
              "    </tr>\n",
              "    <tr>\n",
              "      <th>Day</th>\n",
              "      <td>0.018254</td>\n",
              "      <td>0.005497</td>\n",
              "      <td>1.000000</td>\n",
              "      <td>-0.011802</td>\n",
              "      <td>-0.003225</td>\n",
              "      <td>-0.001082</td>\n",
              "    </tr>\n",
              "    <tr>\n",
              "      <th>Success</th>\n",
              "      <td>-0.082963</td>\n",
              "      <td>-0.002845</td>\n",
              "      <td>-0.011802</td>\n",
              "      <td>1.000000</td>\n",
              "      <td>0.049619</td>\n",
              "      <td>0.023346</td>\n",
              "    </tr>\n",
              "    <tr>\n",
              "      <th>Killed</th>\n",
              "      <td>0.021252</td>\n",
              "      <td>0.004031</td>\n",
              "      <td>-0.003225</td>\n",
              "      <td>0.049619</td>\n",
              "      <td>1.000000</td>\n",
              "      <td>0.443326</td>\n",
              "    </tr>\n",
              "    <tr>\n",
              "      <th>Wounded</th>\n",
              "      <td>0.017484</td>\n",
              "      <td>0.003178</td>\n",
              "      <td>-0.001082</td>\n",
              "      <td>0.023346</td>\n",
              "      <td>0.443326</td>\n",
              "      <td>1.000000</td>\n",
              "    </tr>\n",
              "  </tbody>\n",
              "</table>\n",
              "</div>\n",
              "      <button class=\"colab-df-convert\" onclick=\"convertToInteractive('df-f94c133b-dd72-40f7-827f-53ed55d75712')\"\n",
              "              title=\"Convert this dataframe to an interactive table.\"\n",
              "              style=\"display:none;\">\n",
              "        \n",
              "  <svg xmlns=\"http://www.w3.org/2000/svg\" height=\"24px\"viewBox=\"0 0 24 24\"\n",
              "       width=\"24px\">\n",
              "    <path d=\"M0 0h24v24H0V0z\" fill=\"none\"/>\n",
              "    <path d=\"M18.56 5.44l.94 2.06.94-2.06 2.06-.94-2.06-.94-.94-2.06-.94 2.06-2.06.94zm-11 1L8.5 8.5l.94-2.06 2.06-.94-2.06-.94L8.5 2.5l-.94 2.06-2.06.94zm10 10l.94 2.06.94-2.06 2.06-.94-2.06-.94-.94-2.06-.94 2.06-2.06.94z\"/><path d=\"M17.41 7.96l-1.37-1.37c-.4-.4-.92-.59-1.43-.59-.52 0-1.04.2-1.43.59L10.3 9.45l-7.72 7.72c-.78.78-.78 2.05 0 2.83L4 21.41c.39.39.9.59 1.41.59.51 0 1.02-.2 1.41-.59l7.78-7.78 2.81-2.81c.8-.78.8-2.07 0-2.86zM5.41 20L4 18.59l7.72-7.72 1.47 1.35L5.41 20z\"/>\n",
              "  </svg>\n",
              "      </button>\n",
              "      \n",
              "  <style>\n",
              "    .colab-df-container {\n",
              "      display:flex;\n",
              "      flex-wrap:wrap;\n",
              "      gap: 12px;\n",
              "    }\n",
              "\n",
              "    .colab-df-convert {\n",
              "      background-color: #E8F0FE;\n",
              "      border: none;\n",
              "      border-radius: 50%;\n",
              "      cursor: pointer;\n",
              "      display: none;\n",
              "      fill: #1967D2;\n",
              "      height: 32px;\n",
              "      padding: 0 0 0 0;\n",
              "      width: 32px;\n",
              "    }\n",
              "\n",
              "    .colab-df-convert:hover {\n",
              "      background-color: #E2EBFA;\n",
              "      box-shadow: 0px 1px 2px rgba(60, 64, 67, 0.3), 0px 1px 3px 1px rgba(60, 64, 67, 0.15);\n",
              "      fill: #174EA6;\n",
              "    }\n",
              "\n",
              "    [theme=dark] .colab-df-convert {\n",
              "      background-color: #3B4455;\n",
              "      fill: #D2E3FC;\n",
              "    }\n",
              "\n",
              "    [theme=dark] .colab-df-convert:hover {\n",
              "      background-color: #434B5C;\n",
              "      box-shadow: 0px 1px 3px 1px rgba(0, 0, 0, 0.15);\n",
              "      filter: drop-shadow(0px 1px 2px rgba(0, 0, 0, 0.3));\n",
              "      fill: #FFFFFF;\n",
              "    }\n",
              "  </style>\n",
              "\n",
              "      <script>\n",
              "        const buttonEl =\n",
              "          document.querySelector('#df-f94c133b-dd72-40f7-827f-53ed55d75712 button.colab-df-convert');\n",
              "        buttonEl.style.display =\n",
              "          google.colab.kernel.accessAllowed ? 'block' : 'none';\n",
              "\n",
              "        async function convertToInteractive(key) {\n",
              "          const element = document.querySelector('#df-f94c133b-dd72-40f7-827f-53ed55d75712');\n",
              "          const dataTable =\n",
              "            await google.colab.kernel.invokeFunction('convertToInteractive',\n",
              "                                                     [key], {});\n",
              "          if (!dataTable) return;\n",
              "\n",
              "          const docLinkHtml = 'Like what you see? Visit the ' +\n",
              "            '<a target=\"_blank\" href=https://colab.research.google.com/notebooks/data_table.ipynb>data table notebook</a>'\n",
              "            + ' to learn more about interactive tables.';\n",
              "          element.innerHTML = '';\n",
              "          dataTable['output_type'] = 'display_data';\n",
              "          await google.colab.output.renderOutput(dataTable, element);\n",
              "          const docLink = document.createElement('div');\n",
              "          docLink.innerHTML = docLinkHtml;\n",
              "          element.appendChild(docLink);\n",
              "        }\n",
              "      </script>\n",
              "    </div>\n",
              "  </div>\n",
              "  "
            ]
          },
          "metadata": {},
          "execution_count": 26
        }
      ]
    },
    {
      "cell_type": "markdown",
      "source": [
        "###Correlation coefficients are always values between -1 and 1, where -1 shows a perfect, linear negative correlation, and 1 shows a perfect, linear positive correlation."
      ],
      "metadata": {
        "id": "2xvXZsp5vRtU"
      }
    }
  ]
}